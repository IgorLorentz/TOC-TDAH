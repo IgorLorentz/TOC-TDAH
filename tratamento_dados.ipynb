{
 "cells": [
  {
   "cell_type": "markdown",
   "metadata": {},
   "source": [
    "### Importando as bibliotecas"
   ]
  },
  {
   "cell_type": "code",
   "execution_count": 555,
   "metadata": {},
   "outputs": [],
   "source": [
    "import pandas as pd\n",
    "import numpy as np\n",
    "import seaborn as sns\n",
    "import matplotlib.pyplot as plt"
   ]
  },
  {
   "cell_type": "markdown",
   "metadata": {},
   "source": [
    "### Filtrando a base e limpando os dados"
   ]
  },
  {
   "cell_type": "code",
   "execution_count": 556,
   "metadata": {},
   "outputs": [],
   "source": [
    "data = pd.read_csv('PNS_2019.csv', sep='\\t', encoding='utf-8')"
   ]
  },
  {
   "cell_type": "code",
   "execution_count": 557,
   "metadata": {},
   "outputs": [],
   "source": [
    "filter_columns = [\n",
    "    'Unidade da Federação', \n",
    "    'Tipo de situação censitária', \n",
    "    'Algum morador tem acesso à Internet no domicílio por meio de computador, tablet, telefone móvel celular, televisão ou outro equipamento?',\n",
    "    'Sexo', \n",
    "    'Idade do morador na data de referência', \n",
    "    'Cor ou raça', \n",
    "    'Sabe ler e escrever', \n",
    "    'Qual foi o curso mais elevado que ___frequentou ',\n",
    "    'tem algum plano de saúde médico particular, de empresa ou órgão público?', \n",
    "    'Em geral, como o(a) Sr(a) avalia a sua saúde', \n",
    "    'Algum médico já lhe deu o diagnóstico de hipertensão arterial (pressão alta)? ', \n",
    "    'Algum médico já lhe deu o diagnóstico de diabetes? ',\n",
    "    'Algum médico já lhe deu o diagnóstico de colesterol alto? ',\n",
    "    'Algum médico já lhe deu o diagnóstico de AVC (Acidente Vascular Cerebral) ou derrame?', \n",
    "    'Algum médico já lhe deu o diagnóstico de asma (ou bronquite asmática)? ', \n",
    "    'Algum médico já lhe deu o diagnóstico de artrite ou reumatismo? ',\n",
    "    'Algum médico já lhe deu o diagnóstico de DORT? ',\n",
    "    'Algum médico ou profissional de saúde mental (como psiquiatra ou psicólogo) já lhe deu o diagnóstico de depressão?',\n",
    "    'Algum médico ou profissional de saúde (como psiquiatra ou psicólogo) já lhe deu o diagnóstico de outra doença mental, como transtorno de ansiedade, síndrome do pânico, esquizofrenia, transtorno bipolar, psicose ou TOC (Transtorno Obsessivo Compulsivo) etc? ',\n",
    "    'Diagnóstico de Esquizofrenia ',\n",
    "    'Diagnóstico de Transtorno bipolar ',\n",
    "    'Diagnóstico de TOC (Transtorno obsessivo compulsivo) ',\n",
    "    'O(A) Sr(a) visita o médico/serviço de saúde regularmente por causa dessa doença mental ou só quando tem algum problema?',\n",
    "    'Por causa da doença mental usa medicamentos ou injeções ',\n",
    "    'Por causa da doença mental Faz acompanhamento regular com profissional de saúde',\n",
    "    'Em geral, em que grau essa doença mental limita as suas atividades habituais (tais como trabalhar, realizar afazeres domésticos etc.)? ',\n",
    "    'Quando foi a última vez que o(a) sr(a) consultou com um(a) médico(a)?',\n",
    "    'Por qual motivo o(a) sr(a) precisou consultar com um(a) médico(a)',\n",
    "    'É difícil para você conseguir atendimento médico no(a) \"serviço de saúde” quando pensa que é necessário?',\n",
    "    'Quando o(a) “serviço de saúde” está aberto(a), você consegue aconselhamento rápido pelo telefone se precisar?',\n",
    "    'Que idade o(a) Sr(a) tinha no primeiro diagnóstico de doença mental? ',\n",
    "    'Por causa da doença mental faz psicoterapia ',\n",
    "    'Em quantos dias da semana o(a) Sr(a) costuma comer feijão? ',\n",
    "    'Em quantos dias da semana, o(a) Sr(a) costuma comer pelo menos um tipo de verdura ou legume (sem contar batata, mandioca, cará ou inhame) como alface, tomate, couve, cenoura, chuchu, berinjela, abobrinha? ',\n",
    "    'Em quantos dias da semana o(a) Sr(a) costuma comer carne vermelha (boi, porco, cabrito, bode, ovelha etc.)? ',\n",
    "    'Em quantos dias da semana o(a) Sr(a) costuma comer frango/galinha? ',\n",
    "    'Em quantos dias da semana o(a) Sr(a) costuma comer peixe? ',\n",
    "    'Em quantos dias da semana o(a) Sr(a) costuma tomar suco de caixinha/lata ou refresco em pó ? ',\n",
    "    'Em quantos dias da semana o(a) Sr(a) costuma tomar suco de fruta natural (incluída a polpa de fruta congelada)? ',\n",
    "    'Em quantos dias da semana o(a) Sr(a) costuma comer frutas? ',\n",
    "    'Em quantos dias da semana o(a) Sr(a) costuma tomar refrigerante? ',\n",
    "    'Em quantos dias da semana o(a) Sr(a) costuma tomar leite? (de origem animal: vaca, cabra, búfala etc.) ',\n",
    "    'Em quantos dias da semana o(a) Sr(a) costuma comer alimentos doces como biscoito/bolacha recheado, chocolate, gelatina, balas e outros?',\n",
    "    'Em quantos dias da semana o(a) Sr(a) costuma substituir a refeição do almoço por lanches rápidos como sanduíches, salgados, pizza, cachorro quente, etc? ',\n",
    "    'Quantos dias por semana o(a) Sr(a) costuma consumir alguma bebida alcoólica? ',\n",
    "    'Quantos dias por semana o(a) Sr(a) costuma  (costumava)praticar exercício físico ou esporte?'\n",
    "]\n",
    "\n",
    "data = data[filter_columns]"
   ]
  },
  {
   "cell_type": "code",
   "execution_count": 558,
   "metadata": {},
   "outputs": [
    {
     "data": {
      "text/plain": [
       "(293726, 46)"
      ]
     },
     "execution_count": 558,
     "metadata": {},
     "output_type": "execute_result"
    }
   ],
   "source": [
    "data.shape"
   ]
  },
  {
   "cell_type": "code",
   "execution_count": 559,
   "metadata": {},
   "outputs": [],
   "source": [
    "data.rename(columns={\n",
    "    'Unidade da Federação': 'UF',\n",
    "    'Tipo de situação censitária': 'Situação Censitária',\n",
    "    'Algum morador tem acesso à Internet no domicílio por meio de computador, tablet, telefone móvel celular, televisão ou outro equipamento?': 'Acesso à Internet',\n",
    "    'Idade do morador na data de referência': 'Idade',\n",
    "    'Cor ou raça': 'Cor/Raça',\n",
    "    'Sabe ler e escrever': 'Sabe Ler/Escrever',\n",
    "    'Qual foi o curso mais elevado que ___frequentou ': 'Curso Mais Elevado',\n",
    "    'tem algum plano de saúde médico particular, de empresa ou órgão público?': 'Possuí Plano de Saúde',\n",
    "    'Em geral, como o(a) Sr(a) avalia a sua saúde': 'Autoavaliação da Saúde',\n",
    "    'Algum médico já lhe deu o diagnóstico de hipertensão arterial (pressão alta)? ': 'Diagnóstico de Hipertensão',\n",
    "    'Algum médico já lhe deu o diagnóstico de diabetes? ': 'Diagnóstico de Diabetes',\n",
    "    'Algum médico já lhe deu o diagnóstico de colesterol alto? ': 'Diagnóstico de Colesterol Alto',\n",
    "    'Algum médico já lhe deu o diagnóstico de AVC (Acidente Vascular Cerebral) ou derrame?': 'Diagnóstico de AVC',\n",
    "    'Algum médico já lhe deu o diagnóstico de asma (ou bronquite asmática)? ': 'Diagnóstico de Asma',\n",
    "    'Algum médico já lhe deu o diagnóstico de artrite ou reumatismo? ': 'Diagnóstico de Artrite/Reumatismo',\n",
    "    'Algum médico já lhe deu o diagnóstico de DORT? ': 'Diagnóstico de DORT',\n",
    "    'Algum médico ou profissional de saúde mental (como psiquiatra ou psicólogo) já lhe deu o diagnóstico de depressão?': 'Diagnóstico de Depressão',\n",
    "    'Algum médico ou profissional de saúde (como psiquiatra ou psicólogo) já lhe deu o diagnóstico de outra doença mental, como transtorno de ansiedade, síndrome do pânico, esquizofrenia, transtorno bipolar, psicose ou TOC (Transtorno Obsessivo Compulsivo) etc? ': 'Diagnóstico de Outra Doença Mental',\n",
    "    'Diagnóstico de Esquizofrenia ': 'Diagnóstico de Esquizofrenia',\n",
    "    'Diagnóstico de Transtorno bipolar ': 'Diagnóstico de Transtorno Bipolar',\n",
    "    'Diagnóstico de TOC (Transtorno obsessivo compulsivo) ': 'Diagnóstico de TOC',\n",
    "    'O(A) Sr(a) visita o médico/serviço de saúde regularmente por causa dessa doença mental ou só quando tem algum problema?': 'Visita Médico Regularmente',\n",
    "    'Por causa da doença mental usa medicamentos ou injeções ': 'Uso Medicamentos/Injeções',\n",
    "    'Por causa da doença mental Faz acompanhamento regular com profissional de saúde': 'Acompanhamento Regular',\n",
    "    'Em geral, em que grau essa doença mental limita as suas atividades habituais (tais como trabalhar, realizar afazeres domésticos etc.)? ': 'Limitação das Atividades Diárias',\n",
    "    'Quando foi a última vez que o(a) sr(a) consultou com um(a) médico(a)?': 'Última Consulta Médica',\n",
    "    'Por qual motivo o(a) sr(a) precisou consultar com um(a) médico(a)': 'Motivo da Consulta Médica',\n",
    "    'É difícil para você conseguir atendimento médico no(a) \"serviço de saúde” quando pensa que é necessário?': 'Dificuldade Atendimento Médico',\n",
    "    'Quando o(a) “serviço de saúde” está aberto(a), você consegue aconselhamento rápido pelo telefone se precisar?': 'Aconselhamento Médico Rápido por Telefone',\n",
    "    'Que idade o(a) Sr(a) tinha no primeiro diagnóstico de doença mental? ': 'Idade Primeiro Diagnóstico de Doença Mental',\n",
    "    'Por causa da doença mental faz psicoterapia ': 'Faz Psicoterapia',\n",
    "    'Em quantos dias da semana o(a) Sr(a) costuma comer feijão? ': 'Consumo de Feijão por Semana',\n",
    "    'Em quantos dias da semana, o(a) Sr(a) costuma comer pelo menos um tipo de verdura ou legume (sem contar batata, mandioca, cará ou inhame) como alface, tomate, couve, cenoura, chuchu, berinjela, abobrinha? ': 'Consumo de Verdura ou Legume por Semana',\n",
    "    'Em quantos dias da semana o(a) Sr(a) costuma comer carne vermelha (boi, porco, cabrito, bode, ovelha etc.)? ': 'Consumo de Carne Vermelha por Semana',\n",
    "    'Em quantos dias da semana o(a) Sr(a) costuma comer frango/galinha? ': 'Consumo de Frango por Semana',\n",
    "    'Em quantos dias da semana o(a) Sr(a) costuma comer peixe? ': 'Consumo de Peixe por Semana',\n",
    "    'Em quantos dias da semana o(a) Sr(a) costuma tomar suco de caixinha/lata ou refresco em pó ? ': 'Consumo de Suco Industrializado por Semana',\n",
    "    'Em quantos dias da semana o(a) Sr(a) costuma tomar suco de fruta natural (incluída a polpa de fruta congelada)? ': 'Consumo de Suco Natural por Semana',\n",
    "    'Em quantos dias da semana o(a) Sr(a) costuma comer frutas? ': 'Consumo de Frutas por Semana',\n",
    "    'Em quantos dias da semana o(a) Sr(a) costuma tomar refrigerante? ': 'Consumo de Refrigerante por Semana',\n",
    "    'Em quantos dias da semana o(a) Sr(a) costuma tomar leite? (de origem animal: vaca, cabra, búfala etc.) ': 'Consumo de Leite por Semana',\n",
    "    'Em quantos dias da semana o(a) Sr(a) costuma comer alimentos doces como biscoito/bolacha recheado, chocolate, gelatina, balas e outros?': 'Consumo de Doces por Semana',\n",
    "    'Em quantos dias da semana o(a) Sr(a) costuma substituir a refeição do almoço por lanches rápidos como sanduíches, salgados, pizza, cachorro quente, etc? ': 'Consumo de Fast Food por Semana',\n",
    "    'Quantos dias por semana o(a) Sr(a) costuma consumir alguma bebida alcoólica? ': 'Consumo de Bebida Alcoólica por Semana',\n",
    "    'Quantos dias por semana o(a) Sr(a) costuma  (costumava)praticar exercício físico ou esporte?': 'Pratica de Exercício por Semana'\n",
    "}, inplace=True)\n"
   ]
  },
  {
   "cell_type": "markdown",
   "metadata": {},
   "source": [
    "### Removendo as linhas em que o atributo target - 'Diagnóstico de TOC' - seja nulo/NAN"
   ]
  },
  {
   "cell_type": "code",
   "execution_count": 560,
   "metadata": {},
   "outputs": [
    {
     "name": "stdout",
     "output_type": "stream",
     "text": [
      "Diagnóstico de TOC\n",
      "1.0    3741\n",
      "2.0    1164\n",
      "Name: count, dtype: int64\n",
      "Quantidade de nulos:  0\n"
     ]
    }
   ],
   "source": [
    "data = data.dropna(subset=['Diagnóstico de TOC'])\n",
    "print(data['Diagnóstico de TOC'].value_counts())\n",
    "print('Quantidade de nulos: ', data['Diagnóstico de TOC'].isnull().sum())"
   ]
  },
  {
   "cell_type": "code",
   "execution_count": 561,
   "metadata": {},
   "outputs": [
    {
     "name": "stdout",
     "output_type": "stream",
     "text": [
      "Linhas:  4905 \n",
      "Colunas:  46\n"
     ]
    }
   ],
   "source": [
    "print('Linhas: ', data.shape[0], '\\nColunas: ', data.shape[1])"
   ]
  },
  {
   "cell_type": "markdown",
   "metadata": {},
   "source": [
    "### Classificando Habitos Alimentares"
   ]
  },
  {
   "cell_type": "code",
   "execution_count": 562,
   "metadata": {},
   "outputs": [],
   "source": [
    "nice_foods = [\n",
    "    'Consumo de Feijão por Semana',\n",
    "    'Consumo de Verdura ou Legume por Semana',\n",
    "    'Consumo de Suco Natural por Semana',\n",
    "    'Consumo de Frutas por Semana',\n",
    "]\n",
    "\n",
    "moderate_foods = [\n",
    "    'Consumo de Carne Vermelha por Semana',\n",
    "    'Consumo de Frango por Semana',\n",
    "    'Consumo de Peixe por Semana',\n",
    "    'Consumo de Leite por Semana',\n",
    "]\n",
    "\n",
    "bad_foods = [\n",
    "    'Consumo de Suco Industrializado por Semana',\n",
    "    'Consumo de Refrigerante por Semana',\n",
    "    'Consumo de Doces por Semana',\n",
    "    'Consumo de Fast Food por Semana',\n",
    "    'Consumo de Bebida Alcoólica por Semana',\n",
    "]"
   ]
  },
  {
   "cell_type": "code",
   "execution_count": 563,
   "metadata": {},
   "outputs": [],
   "source": [
    "def food_score(data):\n",
    "    pontos = 0\n",
    "\n",
    "    for food in nice_foods:\n",
    "        if data[food] == None:\n",
    "            continue\n",
    "        elif data[food] >= 4:\n",
    "            pontos += 2\n",
    "        elif data[food] >= 2:\n",
    "            pontos += 1\n",
    "\n",
    "    for food in moderate_foods:\n",
    "        if data[food] == None:\n",
    "            continue\n",
    "        elif data[food] >= 2:\n",
    "            pontos += 2\n",
    "        elif data[food] >= 4:\n",
    "            pontos += 1\n",
    "\n",
    "    for food in bad_foods:\n",
    "        if data[food] == None:\n",
    "            continue\n",
    "        elif data[food] <= 1:\n",
    "            pontos += 2\n",
    "        elif data[food] <= 3:\n",
    "            pontos += 1\n",
    "\n",
    "    return pontos"
   ]
  },
  {
   "cell_type": "code",
   "execution_count": 564,
   "metadata": {},
   "outputs": [],
   "source": [
    "def set_habito_alimentares(soma):\n",
    "    if soma >= 21:\n",
    "        return 1\n",
    "    elif soma >= 14:\n",
    "        return 2\n",
    "    else:\n",
    "        return 3 "
   ]
  },
  {
   "cell_type": "code",
   "execution_count": 565,
   "metadata": {},
   "outputs": [
    {
     "data": {
      "text/plain": [
       "Hábitos Alimentares\n",
       "2    3393\n",
       "3     856\n",
       "1     656\n",
       "Name: count, dtype: int64"
      ]
     },
     "execution_count": 565,
     "metadata": {},
     "output_type": "execute_result"
    }
   ],
   "source": [
    "data['Hábitos Alimentares'] = data.apply(lambda row: set_habito_alimentares(food_score(row)), axis=1)\n",
    "data['Hábitos Alimentares'].value_counts()"
   ]
  },
  {
   "cell_type": "code",
   "execution_count": 566,
   "metadata": {},
   "outputs": [],
   "source": [
    "data = data.drop([\n",
    "    'Consumo de Suco Industrializado por Semana',\n",
    "    'Consumo de Refrigerante por Semana',\n",
    "    'Consumo de Doces por Semana',\n",
    "    'Consumo de Fast Food por Semana',\n",
    "    'Consumo de Bebida Alcoólica por Semana', \n",
    "    'Consumo de Carne Vermelha por Semana',\n",
    "    'Consumo de Frango por Semana',\n",
    "    'Consumo de Peixe por Semana',\n",
    "    'Consumo de Leite por Semana', \n",
    "    'Consumo de Feijão por Semana',\n",
    "    'Consumo de Verdura ou Legume por Semana',\n",
    "    'Consumo de Suco Natural por Semana',\n",
    "    'Consumo de Frutas por Semana',]\n",
    "    , axis=1)"
   ]
  },
  {
   "cell_type": "markdown",
   "metadata": {},
   "source": [
    "### Tratando Dados Faltantes"
   ]
  },
  {
   "cell_type": "code",
   "execution_count": 567,
   "metadata": {},
   "outputs": [
    {
     "name": "stdout",
     "output_type": "stream",
     "text": [
      "UF                                                0\n",
      "Situação Censitária                               0\n",
      "Acesso à Internet                                 0\n",
      "Sexo                                              0\n",
      "Idade                                             0\n",
      "Cor/Raça                                          0\n",
      "Sabe Ler/Escrever                                 0\n",
      "Curso Mais Elevado                              744\n",
      "Possuí Plano de Saúde                             0\n",
      "Autoavaliação da Saúde                            0\n",
      "Diagnóstico de Hipertensão                       33\n",
      "Diagnóstico de Diabetes                         123\n",
      "Diagnóstico de Colesterol Alto                  162\n",
      "Diagnóstico de AVC                                0\n",
      "Diagnóstico de Asma                               0\n",
      "Diagnóstico de Artrite/Reumatismo                 0\n",
      "Diagnóstico de DORT                               0\n",
      "Diagnóstico de Depressão                       2626\n",
      "Diagnóstico de Outra Doença Mental                0\n",
      "Diagnóstico de Esquizofrenia                      0\n",
      "Diagnóstico de Transtorno Bipolar                 0\n",
      "Diagnóstico de TOC                                0\n",
      "Visita Médico Regularmente                        0\n",
      "Uso Medicamentos/Injeções                         0\n",
      "Acompanhamento Regular                            0\n",
      "Limitação das Atividades Diárias                  0\n",
      "Última Consulta Médica                         1037\n",
      "Motivo da Consulta Médica                      2601\n",
      "Dificuldade Atendimento Médico                 4201\n",
      "Aconselhamento Médico Rápido por Telefone      4201\n",
      "Idade Primeiro Diagnóstico de Doença Mental       0\n",
      "Faz Psicoterapia                                  0\n",
      "Pratica de Exercício por Semana                2680\n",
      "Hábitos Alimentares                               0\n",
      "dtype: int64\n"
     ]
    }
   ],
   "source": [
    "dataMissing = data.isnull().sum()\n",
    "print(dataMissing)"
   ]
  },
  {
   "cell_type": "code",
   "execution_count": 568,
   "metadata": {},
   "outputs": [],
   "source": [
    "dataOk = dataMissing[dataMissing <= 2452].index\n",
    "\n",
    "dataFiltred = data[dataOk]\n",
    "\n",
    "data = dataFiltred"
   ]
  },
  {
   "cell_type": "code",
   "execution_count": 569,
   "metadata": {},
   "outputs": [
    {
     "data": {
      "text/plain": [
       "(4905, 29)"
      ]
     },
     "execution_count": 569,
     "metadata": {},
     "output_type": "execute_result"
    }
   ],
   "source": [
    "data.shape"
   ]
  },
  {
   "cell_type": "markdown",
   "metadata": {},
   "source": [
    "### Imputando Dados"
   ]
  },
  {
   "cell_type": "code",
   "execution_count": 570,
   "metadata": {},
   "outputs": [],
   "source": [
    "meanCurso = np.mean(data[\"Curso Mais Elevado\"])\n",
    "stdCurso = np.std(data[\"Curso Mais Elevado\"], ddof=1)\n",
    "\n",
    "topCurso = meanCurso + stdCurso \n",
    "bottomCurso = meanCurso - stdCurso\n",
    "\n",
    "data.loc[data['Curso Mais Elevado'].isna(), 'Curso Mais Elevado'] =np.random.uniform(\n",
    "    bottomCurso, topCurso, size=data['Curso Mais Elevado'].isna().sum()\n",
    ")"
   ]
  },
  {
   "cell_type": "code",
   "execution_count": 571,
   "metadata": {},
   "outputs": [],
   "source": [
    "meanHiperten = np.mean(data[\"Diagnóstico de Hipertensão\"])\n",
    "stdHiperten = np.std(data[\"Diagnóstico de Hipertensão\"], ddof=1)\n",
    "\n",
    "topHiperten = meanHiperten + stdHiperten\n",
    "bottomHiperten = meanHiperten - stdHiperten\n",
    "\n",
    "data.loc[data['Diagnóstico de Hipertensão'].isna(), 'Diagnóstico de Hipertensão'] = np.random.uniform(\n",
    "    bottomHiperten, topHiperten, size=data['Diagnóstico de Hipertensão'].isna().sum()\n",
    "    )"
   ]
  },
  {
   "cell_type": "code",
   "execution_count": 572,
   "metadata": {},
   "outputs": [],
   "source": [
    "meanDiabetes = np.mean(data[\"Diagnóstico de Diabetes\"])\n",
    "stdDiabetes = np.std(data[\"Diagnóstico de Diabetes\"], ddof=1)\n",
    "\n",
    "topDiabetes = meanDiabetes + stdDiabetes\n",
    "bottomDiabetes = meanDiabetes - stdDiabetes\n",
    "\n",
    "data.loc[data['Diagnóstico de Diabetes'].isna(), 'Diagnóstico de Diabetes'] = np.random.uniform(\n",
    "    bottomDiabetes, topDiabetes, size=data['Diagnóstico de Diabetes'].isna().sum()\n",
    "    )"
   ]
  },
  {
   "cell_type": "code",
   "execution_count": 573,
   "metadata": {},
   "outputs": [],
   "source": [
    "meanColesterol = np.mean(data[\"Diagnóstico de Colesterol Alto\"])\n",
    "stdColesterol = np.std(data[\"Diagnóstico de Colesterol Alto\"], ddof=1)\n",
    "\n",
    "topColesterol = meanColesterol + stdColesterol\n",
    "bottomColesterol = meanColesterol - stdColesterol\n",
    "\n",
    "data.loc[data['Diagnóstico de Colesterol Alto'].isna(), 'Diagnóstico de Colesterol Alto'] = np.random.uniform(\n",
    "    bottomColesterol, topColesterol, size=data['Diagnóstico de Colesterol Alto'].isna().sum()\n",
    "    )"
   ]
  },
  {
   "cell_type": "code",
   "execution_count": 574,
   "metadata": {},
   "outputs": [],
   "source": [
    "meanConsulta = np.mean(data[\"Última Consulta Médica\"])\n",
    "stdConsulta = np.std(data[\"Última Consulta Médica\"], ddof=1)\n",
    "\n",
    "topConsulta = meanConsulta + stdConsulta\n",
    "bottomConsulta = meanConsulta - stdConsulta\n",
    "\n",
    "data.loc[data['Última Consulta Médica'].isna(), 'Última Consulta Médica'] = np.random.uniform(\n",
    "    bottomConsulta, topConsulta, size=data['Última Consulta Médica'].isna().sum()\n",
    "    )"
   ]
  },
  {
   "cell_type": "code",
   "execution_count": 575,
   "metadata": {},
   "outputs": [
    {
     "name": "stdout",
     "output_type": "stream",
     "text": [
      "UF                                             0\n",
      "Situação Censitária                            0\n",
      "Acesso à Internet                              0\n",
      "Sexo                                           0\n",
      "Idade                                          0\n",
      "Cor/Raça                                       0\n",
      "Sabe Ler/Escrever                              0\n",
      "Curso Mais Elevado                             0\n",
      "Possuí Plano de Saúde                          0\n",
      "Autoavaliação da Saúde                         0\n",
      "Diagnóstico de Hipertensão                     0\n",
      "Diagnóstico de Diabetes                        0\n",
      "Diagnóstico de Colesterol Alto                 0\n",
      "Diagnóstico de AVC                             0\n",
      "Diagnóstico de Asma                            0\n",
      "Diagnóstico de Artrite/Reumatismo              0\n",
      "Diagnóstico de DORT                            0\n",
      "Diagnóstico de Outra Doença Mental             0\n",
      "Diagnóstico de Esquizofrenia                   0\n",
      "Diagnóstico de Transtorno Bipolar              0\n",
      "Diagnóstico de TOC                             0\n",
      "Visita Médico Regularmente                     0\n",
      "Uso Medicamentos/Injeções                      0\n",
      "Acompanhamento Regular                         0\n",
      "Limitação das Atividades Diárias               0\n",
      "Última Consulta Médica                         0\n",
      "Idade Primeiro Diagnóstico de Doença Mental    0\n",
      "Faz Psicoterapia                               0\n",
      "Hábitos Alimentares                            0\n",
      "dtype: int64\n"
     ]
    }
   ],
   "source": [
    "dataMissing = data.isnull().sum()\n",
    "print(dataMissing)"
   ]
  },
  {
   "cell_type": "markdown",
   "metadata": {},
   "source": [
    "### Análise de Outliers"
   ]
  },
  {
   "cell_type": "code",
   "execution_count": 576,
   "metadata": {},
   "outputs": [],
   "source": [
    "from sklearn.decomposition import PCA\n",
    "from sklearn.preprocessing import StandardScaler"
   ]
  },
  {
   "cell_type": "markdown",
   "metadata": {},
   "source": [
    "PCA"
   ]
  },
  {
   "cell_type": "code",
   "execution_count": 577,
   "metadata": {},
   "outputs": [],
   "source": [
    "scaler = StandardScaler()\n",
    "dataScaled = scaler.fit_transform(data)"
   ]
  },
  {
   "cell_type": "code",
   "execution_count": 578,
   "metadata": {},
   "outputs": [],
   "source": [
    "pca = PCA(n_components=2)\n",
    "principal_components = pca.fit_transform(dataScaled)"
   ]
  },
  {
   "cell_type": "code",
   "execution_count": 579,
   "metadata": {},
   "outputs": [
    {
     "data": {
      "image/png": "[encoded data removed]",
      "text/plain": [
       "<Figure size 600x400 with 1 Axes>"
      ]
     },
     "metadata": {},
     "output_type": "display_data"
    },
    {
     "data": {
      "text/plain": [
       "<Figure size 640x480 with 0 Axes>"
      ]
     },
     "metadata": {},
     "output_type": "display_data"
    }
   ],
   "source": [
    "plt.figure(figsize=(6, 4))\n",
    "plt.scatter(principal_components[:, 0], principal_components[:, 1], alpha=0.5)\n",
    "plt.xlabel('Componente Principal 1')\n",
    "plt.ylabel('Componente Principal 2')\n",
    "plt.title('Outliers no Espaço Reduzido por PCA')\n",
    "plt.grid()\n",
    "plt.show()\n",
    "plt.savefig('outliers_pca.png') "
   ]
  },
  {
   "cell_type": "code",
   "execution_count": 580,
   "metadata": {},
   "outputs": [
    {
     "data": {
      "image/png": "[encoded data removed]",
      "text/plain": [
       "<Figure size 1000x1000 with 1 Axes>"
      ]
     },
     "metadata": {},
     "output_type": "display_data"
    },
    {
     "data": {
      "text/plain": [
       "<Figure size 640x480 with 0 Axes>"
      ]
     },
     "metadata": {},
     "output_type": "display_data"
    }
   ],
   "source": [
    "plt.figure(figsize=(10, 10))\n",
    "sns.boxplot(data=dataScaled, orient=\"h\")\n",
    "plt.xticks(rotation=45)\n",
    "plt.title('Análise de Outliers por Atributo')\n",
    "plt.tight_layout()\n",
    "plt.show()\n",
    "plt.savefig('box_plot.png') "
   ]
  },
  {
   "cell_type": "markdown",
   "metadata": {},
   "source": [
    "### Gerando a base com dados tratados"
   ]
  },
  {
   "cell_type": "code",
   "execution_count": 581,
   "metadata": {},
   "outputs": [],
   "source": [
    "data.to_csv('dados_tratados.csv', sep='\\t', encoding='utf-8')"
   ]
  },
  {
   "cell_type": "markdown",
   "metadata": {},
   "source": [
    "### Mapeamento dos atributos"
   ]
  },
  {
   "cell_type": "code",
   "execution_count": 582,
   "metadata": {},
   "outputs": [],
   "source": [
    "def set_uf(uf):\n",
    "    if uf == 11:\n",
    "        return 'Rondônia'\n",
    "    elif uf == 12:\n",
    "        return 'Acre'\n",
    "    elif uf == 13:\n",
    "        return 'Amazonas'\n",
    "    elif uf == 14:\n",
    "        return 'Roraima'\n",
    "    elif uf == 15:\n",
    "        return 'Pará'\n",
    "    elif uf == 16:\n",
    "        return 'Amapá'\n",
    "    elif uf == 17:\n",
    "        return 'Tocantins'\n",
    "    elif uf == 21:\n",
    "        return 'Maranhão'\n",
    "    elif uf == 22:\n",
    "        return 'Piauí'\n",
    "    elif uf == 23:\n",
    "        return 'Ceará'\n",
    "    elif uf == 24:\n",
    "        return 'Rio Grande do Norte'\n",
    "    elif uf == 25:\n",
    "        return 'Paraíba'\n",
    "    elif uf == 26:\n",
    "        return 'Pernambuco'\n",
    "    elif uf == 27:\n",
    "        return 'Alagoas'\n",
    "    elif uf == 28:\n",
    "        return 'Sergipe'\n",
    "    elif uf == 29:\n",
    "        return 'Bahia'\n",
    "    elif uf == 31:\n",
    "        return 'Minas Gerais'\n",
    "    elif uf == 32:\n",
    "        return 'Espírito Santo'\n",
    "    elif uf == 33:\n",
    "        return 'Rio de Janeiro'\n",
    "    elif uf == 35:\n",
    "        return 'São Paulo'\n",
    "    elif uf == 41:\n",
    "        return 'Paraná'\n",
    "    elif uf == 42:\n",
    "        return 'Santa Catarina'\n",
    "    elif uf == 43:\n",
    "        return 'Rio Grande do Sul'\n",
    "    elif uf == 50:\n",
    "        return 'Mato Grosso do Sul'\n",
    "    elif uf == 51:\n",
    "        return 'Mato Grosso'\n",
    "    elif uf == 52:\n",
    "        return 'Goiás'\n",
    "    elif uf == 53:\n",
    "        return 'Distrito Federal'"
   ]
  },
  {
   "cell_type": "code",
   "execution_count": 583,
   "metadata": {},
   "outputs": [
    {
     "data": {
      "text/plain": [
       "UF\n",
       "São Paulo              461\n",
       "Minas Gerais           372\n",
       "Rio Grande do Sul      325\n",
       "Rio de Janeiro         310\n",
       "Espírito Santo         267\n",
       "Paraná                 263\n",
       "Ceará                  242\n",
       "Pernambuco             223\n",
       "Santa Catarina         220\n",
       "Mato Grosso do Sul     203\n",
       "Goiás                  195\n",
       "Bahia                  190\n",
       "Sergipe                178\n",
       "Rio Grande do Norte    176\n",
       "Paraíba                175\n",
       "Piauí                  147\n",
       "Distrito Federal       145\n",
       "Maranhão               137\n",
       "Alagoas                116\n",
       "Mato Grosso             97\n",
       "Tocantins               80\n",
       "Rondônia                77\n",
       "Acre                    71\n",
       "Pará                    70\n",
       "Amazonas                69\n",
       "Roraima                 58\n",
       "Amapá                   38\n",
       "Name: count, dtype: int64"
      ]
     },
     "execution_count": 583,
     "metadata": {},
     "output_type": "execute_result"
    }
   ],
   "source": [
    "data['UF'] = data['UF'].apply(set_uf)\n",
    "data.UF.value_counts()"
   ]
  },
  {
   "cell_type": "code",
   "execution_count": 584,
   "metadata": {},
   "outputs": [],
   "source": [
    "def set_situacao_censitaria(situacao_censitaria):\n",
    "    if situacao_censitaria == 1:\n",
    "        return 'Urbano'\n",
    "    elif situacao_censitaria == 2:\n",
    "        return 'Rural'"
   ]
  },
  {
   "cell_type": "code",
   "execution_count": 585,
   "metadata": {},
   "outputs": [
    {
     "data": {
      "text/plain": [
       "Situação Censitária\n",
       "Urbano    4221\n",
       "Rural      684\n",
       "Name: count, dtype: int64"
      ]
     },
     "execution_count": 585,
     "metadata": {},
     "output_type": "execute_result"
    }
   ],
   "source": [
    "data['Situação Censitária'] = data['Situação Censitária'].apply(set_situacao_censitaria)\n",
    "data['Situação Censitária'].value_counts()"
   ]
  },
  {
   "cell_type": "code",
   "execution_count": 586,
   "metadata": {},
   "outputs": [],
   "source": [
    "def set_acesso_internet(acesso_internet):\n",
    "    if pd.isna(acesso_internet):\n",
    "        return 'Não aplicável'\n",
    "    elif acesso_internet == 1:\n",
    "        return 'Sim'\n",
    "    elif acesso_internet == 2:\n",
    "        return 'Não'\n",
    "    elif acesso_internet == 9:\n",
    "        return 'Ignorado'"
   ]
  },
  {
   "cell_type": "code",
   "execution_count": 587,
   "metadata": {},
   "outputs": [
    {
     "data": {
      "text/plain": [
       "Acesso à Internet\n",
       "Sim    4210\n",
       "Não     695\n",
       "Name: count, dtype: int64"
      ]
     },
     "execution_count": 587,
     "metadata": {},
     "output_type": "execute_result"
    }
   ],
   "source": [
    "data['Acesso à Internet'] = data['Acesso à Internet'].apply(set_acesso_internet)\n",
    "data['Acesso à Internet'].value_counts()"
   ]
  },
  {
   "cell_type": "code",
   "execution_count": 588,
   "metadata": {},
   "outputs": [],
   "source": [
    "def set_cor_raca(cor_raca):\n",
    "    if pd.isna(cor_raca):\n",
    "        return 'Não aplicável'\n",
    "    elif cor_raca == 1:\n",
    "        return 'Branca'\n",
    "    elif cor_raca == 2:\n",
    "        return 'Preta'\n",
    "    elif cor_raca == 3:\n",
    "        return 'Amarela'\n",
    "    elif cor_raca == 4:\n",
    "        return 'Parda'\n",
    "    elif cor_raca == 5:\n",
    "        return 'Indígena'\n",
    "    elif cor_raca == 6:\n",
    "        return 'Ignorado'"
   ]
  },
  {
   "cell_type": "code",
   "execution_count": 589,
   "metadata": {},
   "outputs": [
    {
     "data": {
      "text/plain": [
       "Cor/Raça\n",
       "Branca      2209\n",
       "Parda       2177\n",
       "Preta        455\n",
       "Indígena      34\n",
       "Amarela       30\n",
       "Name: count, dtype: int64"
      ]
     },
     "execution_count": 589,
     "metadata": {},
     "output_type": "execute_result"
    }
   ],
   "source": [
    "data['Cor/Raça'] = data['Cor/Raça'].apply(set_cor_raca)\n",
    "data['Cor/Raça'].value_counts()"
   ]
  },
  {
   "cell_type": "code",
   "execution_count": 590,
   "metadata": {},
   "outputs": [],
   "source": [
    "def set_ler_escrever(ler_escrever):\n",
    "    if pd.isna(ler_escrever):\n",
    "        return 'Não aplicável'\n",
    "    elif ler_escrever == 1:\n",
    "        return 'Sim'\n",
    "    elif ler_escrever == 2:\n",
    "        return 'Não'\n",
    "    elif ler_escrever == 9:\n",
    "        return 'Ignorado'"
   ]
  },
  {
   "cell_type": "code",
   "execution_count": 591,
   "metadata": {},
   "outputs": [
    {
     "data": {
      "text/plain": [
       "Sabe Ler/Escrever\n",
       "Sim    4601\n",
       "Não     304\n",
       "Name: count, dtype: int64"
      ]
     },
     "execution_count": 591,
     "metadata": {},
     "output_type": "execute_result"
    }
   ],
   "source": [
    "data['Sabe Ler/Escrever'] = data['Sabe Ler/Escrever'].apply(set_ler_escrever)\n",
    "data['Sabe Ler/Escrever'].value_counts()"
   ]
  },
  {
   "cell_type": "code",
   "execution_count": 592,
   "metadata": {},
   "outputs": [],
   "source": [
    "def set_curso_mais_elevado(curso_mais_elevado):\n",
    "    if pd.isna(curso_mais_elevado):\n",
    "        return 'Não aplicável'\n",
    "    elif curso_mais_elevado == 1:\n",
    "        return 'Creche'\n",
    "    elif curso_mais_elevado == 2:\n",
    "        return 'Pré-escola'\n",
    "    elif curso_mais_elevado == 3:\n",
    "        return 'Classe de alfabetização'\n",
    "    elif curso_mais_elevado == 4:\n",
    "        return 'Alfabetização de jovens e adultos'\n",
    "    elif curso_mais_elevado == 5:\n",
    "        return 'Antigo primário (elementar)'\n",
    "    elif curso_mais_elevado == 6:\n",
    "        return 'Antigo ginasial (médio 1º ciclo)'\n",
    "    elif curso_mais_elevado == 7:\n",
    "        return 'Regular do ensino fundamental ou do 1º grau'\n",
    "    elif curso_mais_elevado == 8:\n",
    "        return 'Educação de jovens e adultos (EJA) ou supletivo do ensino fundamental'\n",
    "    elif curso_mais_elevado == 9:\n",
    "        return 'Antigo científico, clássico etc. (médio 2º ciclo)'\n",
    "    elif curso_mais_elevado == 10:\n",
    "        return 'Regular do ensino médio ou do 2º grau'\n",
    "    elif curso_mais_elevado == 11:\n",
    "        return 'Educação de jovens e adultos (EJA) ou supletivo do ensino médio'\n",
    "    elif curso_mais_elevado == 12:\n",
    "        return 'Superior - graduação'\n",
    "    elif curso_mais_elevado == 13:\n",
    "        return 'Especialização de nível superior (duração mínima de 360 horas)'\n",
    "    elif curso_mais_elevado == 14:\n",
    "        return 'Mestrado'\n",
    "    elif curso_mais_elevado == 15:\n",
    "        return 'Doutorado'\n",
    "    elif curso_mais_elevado == 99:\n",
    "        return 'Ignorado'"
   ]
  },
  {
   "cell_type": "code",
   "execution_count": 593,
   "metadata": {},
   "outputs": [
    {
     "data": {
      "text/plain": [
       "Curso Mais Elevado\n",
       "Regular do ensino médio ou do 2º grau                                    1271\n",
       "Regular do ensino fundamental ou do 1º grau                               874\n",
       "Superior - graduação                                                      818\n",
       "Antigo primário (elementar)                                               409\n",
       "Especialização de nível superior (duração mínima de 360 horas)            316\n",
       "Antigo ginasial (médio 1º ciclo)                                          100\n",
       "Educação de jovens e adultos (EJA) ou supletivo do ensino médio            91\n",
       "Antigo científico, clássico etc. (médio 2º ciclo)                          72\n",
       "Educação de jovens e adultos (EJA) ou supletivo do ensino fundamental      64\n",
       "Mestrado                                                                   49\n",
       "Classe de alfabetização                                                    45\n",
       "Doutorado                                                                  22\n",
       "Alfabetização de jovens e adultos                                          18\n",
       "Pré-escola                                                                 11\n",
       "Creche                                                                      1\n",
       "Name: count, dtype: int64"
      ]
     },
     "execution_count": 593,
     "metadata": {},
     "output_type": "execute_result"
    }
   ],
   "source": [
    "data['Curso Mais Elevado'] = data['Curso Mais Elevado'].apply(set_curso_mais_elevado)\n",
    "data['Curso Mais Elevado'].value_counts()"
   ]
  },
  {
   "cell_type": "code",
   "execution_count": 594,
   "metadata": {},
   "outputs": [],
   "source": [
    "def set_plano_saude(plano_saude):\n",
    "    if pd.isna(plano_saude):\n",
    "        return 'Não aplicável'\n",
    "    elif plano_saude == 1:\n",
    "        return 'Sim'\n",
    "    elif plano_saude == 2:\n",
    "        return 'Não'\n",
    "    elif plano_saude == 9:\n",
    "        return 'Ignorado'"
   ]
  },
  {
   "cell_type": "code",
   "execution_count": 595,
   "metadata": {},
   "outputs": [
    {
     "data": {
      "text/plain": [
       "Possuí Plano de Saúde\n",
       "Não    3217\n",
       "Sim    1688\n",
       "Name: count, dtype: int64"
      ]
     },
     "execution_count": 595,
     "metadata": {},
     "output_type": "execute_result"
    }
   ],
   "source": [
    "data['Possuí Plano de Saúde'] = data['Possuí Plano de Saúde'].apply(set_plano_saude)\n",
    "data['Possuí Plano de Saúde'].value_counts()"
   ]
  },
  {
   "cell_type": "code",
   "execution_count": 596,
   "metadata": {},
   "outputs": [],
   "source": [
    "def set_autoavaliacao_saude(autoavaliacao_saude):\n",
    "    if pd.isna(autoavaliacao_saude):\n",
    "        return 'Não aplicável'\n",
    "    elif autoavaliacao_saude == 1:\n",
    "        return 'Muito boa'\n",
    "    elif autoavaliacao_saude == 2:\n",
    "        return 'Boa'\n",
    "    elif autoavaliacao_saude == 3:\n",
    "        return 'Regular'\n",
    "    elif autoavaliacao_saude == 4:\n",
    "        return 'Ruim'\n",
    "    elif autoavaliacao_saude == 5:\n",
    "        return 'Muito ruim'\n",
    "    elif autoavaliacao_saude == 9:\n",
    "        return 'Ignorado'"
   ]
  },
  {
   "cell_type": "code",
   "execution_count": 597,
   "metadata": {},
   "outputs": [
    {
     "data": {
      "text/plain": [
       "Autoavaliação da Saúde\n",
       "Regular       1896\n",
       "Boa           1860\n",
       "Muito boa      495\n",
       "Ruim           485\n",
       "Muito ruim     169\n",
       "Name: count, dtype: int64"
      ]
     },
     "execution_count": 597,
     "metadata": {},
     "output_type": "execute_result"
    }
   ],
   "source": [
    "data['Autoavaliação da Saúde'] = data['Autoavaliação da Saúde'].apply(set_autoavaliacao_saude)\n",
    "data['Autoavaliação da Saúde'].value_counts()"
   ]
  },
  {
   "cell_type": "code",
   "execution_count": 598,
   "metadata": {},
   "outputs": [],
   "source": [
    "def set_hipertensao(hipertensao):\n",
    "    if pd.isna(hipertensao):\n",
    "        return 'Não aplicável'\n",
    "    elif hipertensao == 1:\n",
    "        return 'Sim'\n",
    "    elif hipertensao == 2:\n",
    "        return 'Não'\n",
    "    elif hipertensao == 9:\n",
    "        return 'Ignorado'"
   ]
  },
  {
   "cell_type": "code",
   "execution_count": 599,
   "metadata": {},
   "outputs": [
    {
     "data": {
      "text/plain": [
       "Diagnóstico de Hipertensão\n",
       "Não    3346\n",
       "Sim    1526\n",
       "Name: count, dtype: int64"
      ]
     },
     "execution_count": 599,
     "metadata": {},
     "output_type": "execute_result"
    }
   ],
   "source": [
    "data['Diagnóstico de Hipertensão'] = data['Diagnóstico de Hipertensão'].apply(set_hipertensao)\n",
    "data['Diagnóstico de Hipertensão'].value_counts()"
   ]
  },
  {
   "cell_type": "code",
   "execution_count": 600,
   "metadata": {},
   "outputs": [],
   "source": [
    "def set_diabetes(diabetes):\n",
    "    if pd.isna(diabetes):\n",
    "        return 'Não aplicável'\n",
    "    elif diabetes == 1:\n",
    "        return 'Sim'\n",
    "    elif diabetes == 2:\n",
    "        return 'Não'\n",
    "    elif diabetes == 9:\n",
    "        return 'Ignorado'"
   ]
  },
  {
   "cell_type": "code",
   "execution_count": 601,
   "metadata": {},
   "outputs": [
    {
     "data": {
      "text/plain": [
       "Diagnóstico de Diabetes\n",
       "Não    4390\n",
       "Sim     392\n",
       "Name: count, dtype: int64"
      ]
     },
     "execution_count": 601,
     "metadata": {},
     "output_type": "execute_result"
    }
   ],
   "source": [
    "data['Diagnóstico de Diabetes'] = data['Diagnóstico de Diabetes'].apply(set_diabetes)\n",
    "data['Diagnóstico de Diabetes'].value_counts()"
   ]
  },
  {
   "cell_type": "code",
   "execution_count": 602,
   "metadata": {},
   "outputs": [],
   "source": [
    "def set_colesterol(colesterol):\n",
    "    if pd.isna(colesterol):\n",
    "        return 'Não aplicável'\n",
    "    elif colesterol == 1:\n",
    "        return 'Sim'\n",
    "    elif colesterol == 2:\n",
    "        return 'Não'\n",
    "    elif colesterol == 9:\n",
    "        return 'Ignorado'\n"
   ]
  },
  {
   "cell_type": "code",
   "execution_count": 603,
   "metadata": {},
   "outputs": [
    {
     "data": {
      "text/plain": [
       "Diagnóstico de Colesterol Alto\n",
       "Não    3512\n",
       "Sim    1231\n",
       "Name: count, dtype: int64"
      ]
     },
     "execution_count": 603,
     "metadata": {},
     "output_type": "execute_result"
    }
   ],
   "source": [
    "data['Diagnóstico de Colesterol Alto'] = data['Diagnóstico de Colesterol Alto'].apply(set_colesterol)\n",
    "data['Diagnóstico de Colesterol Alto'].value_counts()"
   ]
  },
  {
   "cell_type": "code",
   "execution_count": 604,
   "metadata": {},
   "outputs": [],
   "source": [
    "def set_avc(avc):\n",
    "    if pd.isna(avc):\n",
    "        return 'Não aplicável'\n",
    "    elif avc == 1:\n",
    "        return 'Sim'\n",
    "    elif avc == 2:\n",
    "        return 'Não'\n",
    "    elif avc == 9:\n",
    "        return 'Ignorado'"
   ]
  },
  {
   "cell_type": "code",
   "execution_count": 605,
   "metadata": {},
   "outputs": [
    {
     "data": {
      "text/plain": [
       "Diagnóstico de AVC\n",
       "Não    4764\n",
       "Sim     141\n",
       "Name: count, dtype: int64"
      ]
     },
     "execution_count": 605,
     "metadata": {},
     "output_type": "execute_result"
    }
   ],
   "source": [
    "data['Diagnóstico de AVC'] = data['Diagnóstico de AVC'].apply(set_avc)\n",
    "data['Diagnóstico de AVC'].value_counts()"
   ]
  },
  {
   "cell_type": "code",
   "execution_count": 606,
   "metadata": {},
   "outputs": [],
   "source": [
    "def set_asma(asma):\n",
    "    if pd.isna(asma):\n",
    "        return 'Não aplicável'\n",
    "    elif asma == 1:\n",
    "        return 'Sim'\n",
    "    elif asma == 2:\n",
    "        return 'Não'\n",
    "    elif asma == 9:\n",
    "        return 'Ignorado'"
   ]
  },
  {
   "cell_type": "code",
   "execution_count": 607,
   "metadata": {},
   "outputs": [
    {
     "data": {
      "text/plain": [
       "Diagnóstico de Asma\n",
       "Não    4400\n",
       "Sim     505\n",
       "Name: count, dtype: int64"
      ]
     },
     "execution_count": 607,
     "metadata": {},
     "output_type": "execute_result"
    }
   ],
   "source": [
    "data['Diagnóstico de Asma'] = data['Diagnóstico de Asma'].apply(set_asma)\n",
    "data['Diagnóstico de Asma'].value_counts()"
   ]
  },
  {
   "cell_type": "code",
   "execution_count": 608,
   "metadata": {},
   "outputs": [],
   "source": [
    "def set_artrite_reumatismo(artrite_reumatismo):\n",
    "    if pd.isna(artrite_reumatismo):\n",
    "        return 'Não aplicável'\n",
    "    elif artrite_reumatismo == 1:\n",
    "        return 'Sim'\n",
    "    elif artrite_reumatismo == 2:\n",
    "        return 'Não'\n",
    "    elif artrite_reumatismo == 9:\n",
    "        return 'Ignorado'"
   ]
  },
  {
   "cell_type": "code",
   "execution_count": 609,
   "metadata": {},
   "outputs": [
    {
     "data": {
      "text/plain": [
       "Diagnóstico de Artrite/Reumatismo\n",
       "Não    4164\n",
       "Sim     741\n",
       "Name: count, dtype: int64"
      ]
     },
     "execution_count": 609,
     "metadata": {},
     "output_type": "execute_result"
    }
   ],
   "source": [
    "data['Diagnóstico de Artrite/Reumatismo'] = data['Diagnóstico de Artrite/Reumatismo'].apply(set_artrite_reumatismo)\n",
    "data['Diagnóstico de Artrite/Reumatismo'].value_counts()"
   ]
  },
  {
   "cell_type": "code",
   "execution_count": 610,
   "metadata": {},
   "outputs": [],
   "source": [
    "def set_dort(dort):\n",
    "    if pd.isna(dort):\n",
    "        return 'Não aplicável'\n",
    "    elif dort == 1:\n",
    "        return 'Sim'\n",
    "    elif dort == 2:\n",
    "        return 'Não'\n",
    "    elif dort == 9:\n",
    "        return 'Ignorado'"
   ]
  },
  {
   "cell_type": "code",
   "execution_count": 611,
   "metadata": {},
   "outputs": [
    {
     "data": {
      "text/plain": [
       "Diagnóstico de DORT\n",
       "Não    4618\n",
       "Sim     287\n",
       "Name: count, dtype: int64"
      ]
     },
     "execution_count": 611,
     "metadata": {},
     "output_type": "execute_result"
    }
   ],
   "source": [
    "data['Diagnóstico de DORT'] = data['Diagnóstico de DORT'].apply(set_dort)\n",
    "data['Diagnóstico de DORT'].value_counts()"
   ]
  },
  {
   "cell_type": "code",
   "execution_count": 612,
   "metadata": {},
   "outputs": [],
   "source": [
    "def set_doenca_mental(doenca_mental):\n",
    "    if pd.isna(doenca_mental):\n",
    "        return 'Não aplicável'\n",
    "    elif doenca_mental == 1:\n",
    "        return 'Sim'\n",
    "    elif doenca_mental == 2:\n",
    "        return 'Não'\n",
    "    elif doenca_mental == 9:\n",
    "        return 'Ignorado'"
   ]
  },
  {
   "cell_type": "code",
   "execution_count": 613,
   "metadata": {},
   "outputs": [
    {
     "data": {
      "text/plain": [
       "Diagnóstico de Outra Doença Mental\n",
       "Não    4604\n",
       "Sim     301\n",
       "Name: count, dtype: int64"
      ]
     },
     "execution_count": 613,
     "metadata": {},
     "output_type": "execute_result"
    }
   ],
   "source": [
    "data['Diagnóstico de Outra Doença Mental'] = data['Diagnóstico de Outra Doença Mental'].apply(set_doenca_mental)\n",
    "data['Diagnóstico de Outra Doença Mental'].value_counts()"
   ]
  },
  {
   "cell_type": "code",
   "execution_count": 614,
   "metadata": {},
   "outputs": [],
   "source": [
    "def set_esquizofrenia(esquizofrenia):\n",
    "    if pd.isna(esquizofrenia):\n",
    "        return 'Não aplicável'\n",
    "    elif esquizofrenia == 1:\n",
    "        return 'Sim'\n",
    "    elif esquizofrenia == 2:\n",
    "        return 'Não'\n",
    "    elif esquizofrenia == 9:\n",
    "        return 'Ignorado'"
   ]
  },
  {
   "cell_type": "code",
   "execution_count": 615,
   "metadata": {},
   "outputs": [
    {
     "data": {
      "text/plain": [
       "Diagnóstico de Esquizofrenia\n",
       "Não    4413\n",
       "Sim     492\n",
       "Name: count, dtype: int64"
      ]
     },
     "execution_count": 615,
     "metadata": {},
     "output_type": "execute_result"
    }
   ],
   "source": [
    "data['Diagnóstico de Esquizofrenia'] = data['Diagnóstico de Esquizofrenia'].apply(set_esquizofrenia)\n",
    "data['Diagnóstico de Esquizofrenia'].value_counts()"
   ]
  },
  {
   "cell_type": "code",
   "execution_count": 616,
   "metadata": {},
   "outputs": [],
   "source": [
    "def set_bipolaridade(bipolaridade):\n",
    "    if pd.isna(bipolaridade):\n",
    "        return 'Não aplicável'\n",
    "    elif bipolaridade == 1:\n",
    "        return 'Sim'\n",
    "    elif bipolaridade == 2:\n",
    "        return 'Não'\n",
    "    elif bipolaridade == 9:\n",
    "        return 'Ignorado'"
   ]
  },
  {
   "cell_type": "code",
   "execution_count": 617,
   "metadata": {},
   "outputs": [
    {
     "data": {
      "text/plain": [
       "Diagnóstico de Transtorno Bipolar\n",
       "Não    4607\n",
       "Sim     298\n",
       "Name: count, dtype: int64"
      ]
     },
     "execution_count": 617,
     "metadata": {},
     "output_type": "execute_result"
    }
   ],
   "source": [
    "data['Diagnóstico de Transtorno Bipolar'] = data['Diagnóstico de Transtorno Bipolar'].apply(set_bipolaridade)\n",
    "data['Diagnóstico de Transtorno Bipolar'].value_counts()"
   ]
  },
  {
   "cell_type": "code",
   "execution_count": 618,
   "metadata": {},
   "outputs": [],
   "source": [
    "def set_toc(toc):\n",
    "    if pd.isna(toc):\n",
    "        return 'Não aplicável'\n",
    "    elif toc == 1:\n",
    "        return 'Sim'\n",
    "    elif toc == 2:\n",
    "        return 'Não'\n",
    "    elif toc == 9:\n",
    "        return 'Ignorado'"
   ]
  },
  {
   "cell_type": "code",
   "execution_count": 619,
   "metadata": {},
   "outputs": [
    {
     "data": {
      "text/plain": [
       "Diagnóstico de TOC\n",
       "Sim    3741\n",
       "Não    1164\n",
       "Name: count, dtype: int64"
      ]
     },
     "execution_count": 619,
     "metadata": {},
     "output_type": "execute_result"
    }
   ],
   "source": [
    "data['Diagnóstico de TOC'] = data['Diagnóstico de TOC'].apply(set_toc)\n",
    "data['Diagnóstico de TOC'].value_counts()"
   ]
  },
  {
   "cell_type": "code",
   "execution_count": 620,
   "metadata": {},
   "outputs": [],
   "source": [
    "def set_visita_medica(visita_medica):\n",
    "    if pd.isna(visita_medica):\n",
    "        return 'Não aplicável'\n",
    "    elif visita_medica == 1:\n",
    "        return 'Sim'\n",
    "    elif visita_medica == 2:\n",
    "        return 'Não'\n",
    "    elif visita_medica == 3:\n",
    "        return 'Não, só quando tenho algum problema'\n",
    "    elif visita_medica == 9:\n",
    "        return 'Ignorado'"
   ]
  },
  {
   "cell_type": "code",
   "execution_count": 621,
   "metadata": {},
   "outputs": [
    {
     "data": {
      "text/plain": [
       "Visita Médico Regularmente\n",
       "Não    3838\n",
       "Sim    1067\n",
       "Name: count, dtype: int64"
      ]
     },
     "execution_count": 621,
     "metadata": {},
     "output_type": "execute_result"
    }
   ],
   "source": [
    "data['Visita Médico Regularmente'] = data['Visita Médico Regularmente'].apply(set_visita_medica)\n",
    "data['Visita Médico Regularmente'].value_counts()"
   ]
  },
  {
   "cell_type": "code",
   "execution_count": 622,
   "metadata": {},
   "outputs": [],
   "source": [
    "def set_uso_medicamentos(uso_medicamentos):\n",
    "    if pd.isna(uso_medicamentos):\n",
    "        return 'Não aplicável'\n",
    "    elif uso_medicamentos == 1:\n",
    "        return 'Sim'\n",
    "    elif uso_medicamentos == 2:\n",
    "        return 'Não'\n",
    "    elif uso_medicamentos == 9:\n",
    "        return 'Ignorado'"
   ]
  },
  {
   "cell_type": "code",
   "execution_count": 623,
   "metadata": {},
   "outputs": [
    {
     "data": {
      "text/plain": [
       "Uso Medicamentos/Injeções\n",
       "Não    4520\n",
       "Sim     385\n",
       "Name: count, dtype: int64"
      ]
     },
     "execution_count": 623,
     "metadata": {},
     "output_type": "execute_result"
    }
   ],
   "source": [
    "data['Uso Medicamentos/Injeções'] = data['Uso Medicamentos/Injeções'].apply(set_uso_medicamentos)\n",
    "data['Uso Medicamentos/Injeções'].value_counts()"
   ]
  },
  {
   "cell_type": "code",
   "execution_count": 624,
   "metadata": {},
   "outputs": [],
   "source": [
    "def set_acompanhamento(acompanhamento):\n",
    "    if pd.isna(acompanhamento):\n",
    "        return 'Não aplicável'\n",
    "    elif acompanhamento == 1:\n",
    "        return 'Sim'\n",
    "    elif acompanhamento == 2:\n",
    "        return 'Não'\n",
    "    elif acompanhamento == 9:\n",
    "        return 'Ignorado'"
   ]
  },
  {
   "cell_type": "code",
   "execution_count": 625,
   "metadata": {},
   "outputs": [
    {
     "data": {
      "text/plain": [
       "Acompanhamento Regular\n",
       "Sim    2410\n",
       "Não    1070\n",
       "Name: count, dtype: int64"
      ]
     },
     "execution_count": 625,
     "metadata": {},
     "output_type": "execute_result"
    }
   ],
   "source": [
    "data['Acompanhamento Regular'] = data['Acompanhamento Regular'].apply(set_acompanhamento)\n",
    "data['Acompanhamento Regular'].value_counts()"
   ]
  },
  {
   "cell_type": "code",
   "execution_count": 626,
   "metadata": {},
   "outputs": [],
   "source": [
    "def set_limitacao_atividades(limitacao_atividades):\n",
    "    if pd.isna(limitacao_atividades):\n",
    "        return 'Não aplicável'\n",
    "    elif limitacao_atividades == 1:\n",
    "        return 'Não limita'\n",
    "    elif limitacao_atividades == 2:\n",
    "        return 'Um pouco'\n",
    "    elif limitacao_atividades == 3:\n",
    "        return 'Moderadamente'\n",
    "    elif limitacao_atividades == 4:\n",
    "        return 'Intensamente'\n",
    "    elif limitacao_atividades == 5:\n",
    "        return 'Muito intensamente'\n",
    "    elif limitacao_atividades == 9:\n",
    "        return 'Ignorado'"
   ]
  },
  {
   "cell_type": "code",
   "execution_count": 627,
   "metadata": {},
   "outputs": [
    {
     "data": {
      "text/plain": [
       "Limitação das Atividades Diárias\n",
       "Um pouco      4729\n",
       "Não limita     176\n",
       "Name: count, dtype: int64"
      ]
     },
     "execution_count": 627,
     "metadata": {},
     "output_type": "execute_result"
    }
   ],
   "source": [
    "data['Limitação das Atividades Diárias'] = data['Limitação das Atividades Diárias'].apply(set_limitacao_atividades)\n",
    "data['Limitação das Atividades Diárias'].value_counts()"
   ]
  },
  {
   "cell_type": "code",
   "execution_count": 628,
   "metadata": {},
   "outputs": [],
   "source": [
    "def set_ultima_consulta(ultima_consulta):\n",
    "    if pd.isna(ultima_consulta):\n",
    "        return 'Não aplicável'\n",
    "    elif ultima_consulta == 1:\n",
    "        return 'Até 15 dias'\n",
    "    elif ultima_consulta == 2:\n",
    "        return 'Mais de 15 dias até 1 mês'\n",
    "    elif ultima_consulta == 3:\n",
    "        return 'Mais de 1 mês até 6 meses'\n",
    "    elif ultima_consulta == 4:\n",
    "        return 'Mais de 6 meses até 1 ano'\n",
    "    elif ultima_consulta == 5:\n",
    "        return 'Há mais de 1 ano'\n",
    "    elif ultima_consulta == 9:\n",
    "        return 'Ignorado'"
   ]
  },
  {
   "cell_type": "code",
   "execution_count": 629,
   "metadata": {},
   "outputs": [
    {
     "data": {
      "text/plain": [
       "Última Consulta Médica\n",
       "Mais de 15 dias até 1 mês    2304\n",
       "Até 15 dias                  1564\n",
       "Name: count, dtype: int64"
      ]
     },
     "execution_count": 629,
     "metadata": {},
     "output_type": "execute_result"
    }
   ],
   "source": [
    "data['Última Consulta Médica'] = data['Última Consulta Médica'].apply(set_ultima_consulta)\n",
    "data['Última Consulta Médica'].value_counts()"
   ]
  },
  {
   "cell_type": "code",
   "execution_count": 630,
   "metadata": {},
   "outputs": [],
   "source": [
    "def set_psicoterapia(psicoterapia):\n",
    "    if pd.isna(psicoterapia):\n",
    "        return 'Não aplicável'\n",
    "    elif psicoterapia == 1:\n",
    "        return 'Sim'\n",
    "    elif psicoterapia == 2:\n",
    "        return 'Não'\n",
    "    elif psicoterapia == 9:\n",
    "        return 'Ignorado'"
   ]
  },
  {
   "cell_type": "code",
   "execution_count": 631,
   "metadata": {},
   "outputs": [
    {
     "data": {
      "text/plain": [
       "Faz Psicoterapia\n",
       "Sim    2658\n",
       "Não    2247\n",
       "Name: count, dtype: int64"
      ]
     },
     "execution_count": 631,
     "metadata": {},
     "output_type": "execute_result"
    }
   ],
   "source": [
    "data['Faz Psicoterapia'] = data['Faz Psicoterapia'].apply(set_psicoterapia)\n",
    "data['Faz Psicoterapia'].value_counts()"
   ]
  },
  {
   "cell_type": "code",
   "execution_count": 632,
   "metadata": {},
   "outputs": [],
   "source": [
    "def set_habito_alimentares(habito_alimentares):\n",
    "    if pd.isna(habito_alimentares):\n",
    "        return 'Não aplicável'\n",
    "    elif habito_alimentares == 1:\n",
    "        return 'Bom'\n",
    "    elif habito_alimentares == 2:\n",
    "        return 'Regular'\n",
    "    elif habito_alimentares == 3:\n",
    "        return 'Ruim'\n"
   ]
  },
  {
   "cell_type": "markdown",
   "metadata": {},
   "source": [
    "##### Gerando CSV da base limpa e tratada"
   ]
  },
  {
   "cell_type": "code",
   "execution_count": 633,
   "metadata": {},
   "outputs": [],
   "source": [
    "data.to_csv('dados_mapeados.csv', sep='\\t', encoding='utf-8')"
   ]
  }
 ],
 "metadata": {
  "kernelspec": {
   "display_name": "Python 3",
   "language": "python",
   "name": "python3"
  },
  "language_info": {
   "codemirror_mode": {
    "name": "ipython",
    "version": 3
   },
   "file_extension": ".py",
   "mimetype": "text/x-python",
   "name": "python",
   "nbconvert_exporter": "python",
   "pygments_lexer": "ipython3",
   "version": "3.12.4"
  }
 },
 "nbformat": 4,
 "nbformat_minor": 2
}
