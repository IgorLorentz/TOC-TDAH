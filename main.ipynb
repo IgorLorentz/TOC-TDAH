{
 "cells": [
  {
   "cell_type": "markdown",
   "metadata": {},
   "source": [
    "## Importando as bibliotecas"
   ]
  },
  {
   "cell_type": "code",
   "execution_count": 1,
   "metadata": {},
   "outputs": [],
   "source": [
    "import pandas as pd\n",
    "import numpy as np"
   ]
  },
  {
   "cell_type": "markdown",
   "metadata": {},
   "source": [
    "## Filtrando a base e limpando os dados"
   ]
  },
  {
   "cell_type": "code",
   "execution_count": 2,
   "metadata": {},
   "outputs": [],
   "source": [
    "data = pd.read_csv('PNS_2019.csv', sep='\\t', encoding='utf-8')"
   ]
  },
  {
   "cell_type": "code",
   "execution_count": 3,
   "metadata": {},
   "outputs": [],
   "source": [
    "filter_columns = [\n",
    "    'Unidade da Federação', \n",
    "    'Tipo de situação censitária', \n",
    "    'Algum morador tem acesso à Internet no domicílio por meio de computador, tablet, telefone móvel celular, televisão ou outro equipamento?',\n",
    "    'Sexo', \n",
    "    'Idade do morador na data de referência', \n",
    "    'Cor ou raça', \n",
    "    'Sabe ler e escrever', \n",
    "    'Qual foi o curso mais elevado que ___frequentou ',\n",
    "    'tem algum plano de saúde médico particular, de empresa ou órgão público?', \n",
    "    'Em geral, como o(a) Sr(a) avalia a sua saúde', \n",
    "    'Algum médico já lhe deu o diagnóstico de hipertensão arterial (pressão alta)? ', \n",
    "    'Algum médico já lhe deu o diagnóstico de diabetes? ',\n",
    "    'Algum médico já lhe deu o diagnóstico de colesterol alto? ',\n",
    "    'Algum médico já lhe deu o diagnóstico de AVC (Acidente Vascular Cerebral) ou derrame?', \n",
    "    'Algum médico já lhe deu o diagnóstico de asma (ou bronquite asmática)? ', \n",
    "    'Algum médico já lhe deu o diagnóstico de artrite ou reumatismo? ',\n",
    "    'Algum médico já lhe deu o diagnóstico de DORT? ',\n",
    "    'Algum médico ou profissional de saúde mental (como psiquiatra ou psicólogo) já lhe deu o diagnóstico de depressão?',\n",
    "    'Algum médico ou profissional de saúde (como psiquiatra ou psicólogo) já lhe deu o diagnóstico de outra doença mental, como transtorno de ansiedade, síndrome do pânico, esquizofrenia, transtorno bipolar, psicose ou TOC (Transtorno Obsessivo Compulsivo) etc? ',\n",
    "    'Diagnóstico de Esquizofrenia ',\n",
    "    'Diagnóstico de Transtorno bipolar ',\n",
    "    'Diagnóstico de TOC (Transtorno obsessivo compulsivo) ',\n",
    "    'O(A) Sr(a) visita o médico/serviço de saúde regularmente por causa dessa doença mental ou só quando tem algum problema?',\n",
    "    'Por causa da doença mental usa medicamentos ou injeções ',\n",
    "    'Por causa da doença mental Faz acompanhamento regular com profissional de saúde',\n",
    "    'Em geral, em que grau essa doença mental limita as suas atividades habituais (tais como trabalhar, realizar afazeres domésticos etc.)? ',\n",
    "    'Quando foi a última vez que o(a) sr(a) consultou com um(a) médico(a)?',\n",
    "    'Por qual motivo o(a) sr(a) precisou consultar com um(a) médico(a)',\n",
    "    'É difícil para você conseguir atendimento médico no(a) \"serviço de saúde” quando pensa que é necessário?',\n",
    "    'Quando o(a) “serviço de saúde” está aberto(a), você consegue aconselhamento rápido pelo telefone se precisar?',\n",
    "    'Que idade o(a) Sr(a) tinha no primeiro diagnóstico de doença mental? ',\n",
    "    'Por causa da doença mental faz psicoterapia ',\n",
    "    'Em quantos dias da semana o(a) Sr(a) costuma comer feijão? ',\n",
    "    'Em quantos dias da semana, o(a) Sr(a) costuma comer pelo menos um tipo de verdura ou legume (sem contar batata, mandioca, cará ou inhame) como alface, tomate, couve, cenoura, chuchu, berinjela, abobrinha? ',\n",
    "    'Em quantos dias da semana o(a) Sr(a) costuma comer carne vermelha (boi, porco, cabrito, bode, ovelha etc.)? ',\n",
    "    'Em quantos dias da semana o(a) Sr(a) costuma comer frango/galinha? ',\n",
    "    'Em quantos dias da semana o(a) Sr(a) costuma comer peixe? ',\n",
    "    'Em quantos dias da semana o(a) Sr(a) costuma tomar suco de caixinha/lata ou refresco em pó ? ',\n",
    "    'Em quantos dias da semana o(a) Sr(a) costuma tomar suco de fruta natural (incluída a polpa de fruta congelada)? ',\n",
    "    'Em quantos dias da semana o(a) Sr(a) costuma comer frutas? ',\n",
    "    'Em quantos dias da semana o(a) Sr(a) costuma tomar refrigerante? ',\n",
    "    'Em quantos dias da semana o(a) Sr(a) costuma tomar leite? (de origem animal: vaca, cabra, búfala etc.) ',\n",
    "    'Em quantos dias da semana o(a) Sr(a) costuma comer alimentos doces como biscoito/bolacha recheado, chocolate, gelatina, balas e outros?',\n",
    "    'Em quantos dias da semana o(a) Sr(a) costuma substituir a refeição do almoço por lanches rápidos como sanduíches, salgados, pizza, cachorro quente, etc? ',\n",
    "    'Quantos dias por semana o(a) Sr(a) costuma consumir alguma bebida alcoólica? ',\n",
    "    'Quantos dias por semana o(a) Sr(a) costuma  (costumava)praticar exercício físico ou esporte?'\n",
    "]\n",
    "\n",
    "data = data[filter_columns]"
   ]
  },
  {
   "cell_type": "code",
   "execution_count": 4,
   "metadata": {},
   "outputs": [],
   "source": [
    "data.rename(columns={\n",
    "    'Unidade da Federação': 'UF',\n",
    "    'Tipo de situação censitária': 'Situação Censitária',\n",
    "    'Algum morador tem acesso à Internet no domicílio por meio de computador, tablet, telefone móvel celular, televisão ou outro equipamento?': 'Acesso à Internet',\n",
    "    'Idade do morador na data de referência': 'Idade',\n",
    "    'Cor ou raça': 'Cor/Raça',\n",
    "    'Sabe ler e escrever': 'Sabe Ler/Escrever',\n",
    "    'Qual foi o curso mais elevado que ___frequentou ': 'Curso Mais Elevado',\n",
    "    'tem algum plano de saúde médico particular, de empresa ou órgão público?': 'Possuí Plano de Saúde',\n",
    "    'Em geral, como o(a) Sr(a) avalia a sua saúde': 'Autoavaliação da Saúde',\n",
    "    'Algum médico já lhe deu o diagnóstico de hipertensão arterial (pressão alta)? ': 'Diagnóstico de Hipertensão',\n",
    "    'Algum médico já lhe deu o diagnóstico de diabetes? ': 'Diagnóstico de Diabetes',\n",
    "    'Algum médico já lhe deu o diagnóstico de colesterol alto? ': 'Diagnóstico de Colesterol Alto',\n",
    "    'Algum médico já lhe deu o diagnóstico de AVC (Acidente Vascular Cerebral) ou derrame?': 'Diagnóstico de AVC',\n",
    "    'Algum médico já lhe deu o diagnóstico de asma (ou bronquite asmática)? ': 'Diagnóstico de Asma',\n",
    "    'Algum médico já lhe deu o diagnóstico de artrite ou reumatismo? ': 'Diagnóstico de Artrite/Reumatismo',\n",
    "    'Algum médico já lhe deu o diagnóstico de DORT? ': 'Diagnóstico de DORT',\n",
    "    'Algum médico ou profissional de saúde mental (como psiquiatra ou psicólogo) já lhe deu o diagnóstico de depressão?': 'Diagnóstico de Depressão',\n",
    "    'Algum médico ou profissional de saúde (como psiquiatra ou psicólogo) já lhe deu o diagnóstico de outra doença mental, como transtorno de ansiedade, síndrome do pânico, esquizofrenia, transtorno bipolar, psicose ou TOC (Transtorno Obsessivo Compulsivo) etc? ': 'Diagnóstico de Outra Doença Mental',\n",
    "    'Diagnóstico de Esquizofrenia ': 'Diagnóstico de Esquizofrenia',\n",
    "    'Diagnóstico de Transtorno bipolar ': 'Diagnóstico de Transtorno Bipolar',\n",
    "    'Diagnóstico de TOC (Transtorno obsessivo compulsivo) ': 'Diagnóstico de TOC',\n",
    "    'O(A) Sr(a) visita o médico/serviço de saúde regularmente por causa dessa doença mental ou só quando tem algum problema?': 'Visita Médico Regularmente',\n",
    "    'Por causa da doença mental usa medicamentos ou injeções ': 'Uso Medicamentos/Injeções',\n",
    "    'Por causa da doença mental Faz acompanhamento regular com profissional de saúde': 'Acompanhamento Regular',\n",
    "    'Em geral, em que grau essa doença mental limita as suas atividades habituais (tais como trabalhar, realizar afazeres domésticos etc.)? ': 'Limitação das Atividades Diárias',\n",
    "    'Quando foi a última vez que o(a) sr(a) consultou com um(a) médico(a)?': 'Última Consulta Médica',\n",
    "    'Por qual motivo o(a) sr(a) precisou consultar com um(a) médico(a)': 'Motivo da Consulta Médica',\n",
    "    'É difícil para você conseguir atendimento médico no(a) \"serviço de saúde” quando pensa que é necessário?': 'Dificuldade Atendimento Médico',\n",
    "    'Quando o(a) “serviço de saúde” está aberto(a), você consegue aconselhamento rápido pelo telefone se precisar?': 'Aconselhamento Médico Rápido por Telefone',\n",
    "    'Que idade o(a) Sr(a) tinha no primeiro diagnóstico de doença mental? ': 'Idade Primeiro Diagnóstico de Doença Mental',\n",
    "    'Por causa da doença mental faz psicoterapia ': 'Faz Psicoterapia',\n",
    "    'Em quantos dias da semana o(a) Sr(a) costuma comer feijão? ': 'Consumo de Feijão por Semana',\n",
    "    'Em quantos dias da semana, o(a) Sr(a) costuma comer pelo menos um tipo de verdura ou legume (sem contar batata, mandioca, cará ou inhame) como alface, tomate, couve, cenoura, chuchu, berinjela, abobrinha? ': 'Consumo de Verdura ou Legume por Semana',\n",
    "    'Em quantos dias da semana o(a) Sr(a) costuma comer carne vermelha (boi, porco, cabrito, bode, ovelha etc.)? ': 'Consumo de Carne Vermelha por Semana',\n",
    "    'Em quantos dias da semana o(a) Sr(a) costuma comer frango/galinha? ': 'Consumo de Frango por Semana',\n",
    "    'Em quantos dias da semana o(a) Sr(a) costuma comer peixe? ': 'Consumo de Peixe por Semana',\n",
    "    'Em quantos dias da semana o(a) Sr(a) costuma tomar suco de caixinha/lata ou refresco em pó ? ': 'Consumo de Suco Industrializado por Semana',\n",
    "    'Em quantos dias da semana o(a) Sr(a) costuma tomar suco de fruta natural (incluída a polpa de fruta congelada)? ': 'Consumo de Suco Natural por Semana',\n",
    "    'Em quantos dias da semana o(a) Sr(a) costuma comer frutas? ': 'Consumo de Frutas por Semana',\n",
    "    'Em quantos dias da semana o(a) Sr(a) costuma tomar refrigerante? ': 'Consumo de Refrigerante por Semana',\n",
    "    'Em quantos dias da semana o(a) Sr(a) costuma tomar leite? (de origem animal: vaca, cabra, búfala etc.) ': 'Consumo de Leite por Semana',\n",
    "    'Em quantos dias da semana o(a) Sr(a) costuma comer alimentos doces como biscoito/bolacha recheado, chocolate, gelatina, balas e outros?': 'Consumo de Doces por Semana',\n",
    "    'Em quantos dias da semana o(a) Sr(a) costuma substituir a refeição do almoço por lanches rápidos como sanduíches, salgados, pizza, cachorro quente, etc? ': 'Consumo de Fast Food por Semana',\n",
    "    'Quantos dias por semana o(a) Sr(a) costuma consumir alguma bebida alcoólica? ': 'Consumo de Bebida Alcoólica por Semana',\n",
    "    'Quantos dias por semana o(a) Sr(a) costuma  (costumava)praticar exercício físico ou esporte?': 'Pratica de Exercício por Semana'\n",
    "}, inplace=True)\n"
   ]
  },
  {
   "cell_type": "markdown",
   "metadata": {},
   "source": [
    "### Removendo as linhas em que o atributo target - 'Diagnóstico de TOC' - seja nulo/NAN"
   ]
  },
  {
   "cell_type": "code",
   "execution_count": 5,
   "metadata": {},
   "outputs": [
    {
     "name": "stdout",
     "output_type": "stream",
     "text": [
      "Diagnóstico de TOC\n",
      "1.0    3741\n",
      "2.0    1164\n",
      "Name: count, dtype: int64\n",
      "Quantidade de nulos:  0\n"
     ]
    }
   ],
   "source": [
    "data = data.dropna(subset=['Diagnóstico de TOC'])\n",
    "print(data['Diagnóstico de TOC'].value_counts())\n",
    "print('Quantidade de nulos: ', data['Diagnóstico de TOC'].isnull().sum())"
   ]
  },
  {
   "cell_type": "code",
   "execution_count": 6,
   "metadata": {},
   "outputs": [
    {
     "name": "stdout",
     "output_type": "stream",
     "text": [
      "Linhas:  4905 \n",
      "Colunas:  46\n"
     ]
    }
   ],
   "source": [
    "print('Linhas: ', data.shape[0], '\\nColunas: ', data.shape[1])"
   ]
  },
  {
   "cell_type": "markdown",
   "metadata": {},
   "source": [
    "### Mapeamento dos atributos"
   ]
  },
  {
   "cell_type": "code",
   "execution_count": 7,
   "metadata": {},
   "outputs": [],
   "source": [
    "def set_uf(uf):\n",
    "    if uf == 11:\n",
    "        return 'Rondônia'\n",
    "    elif uf == 12:\n",
    "        return 'Acre'\n",
    "    elif uf == 13:\n",
    "        return 'Amazonas'\n",
    "    elif uf == 14:\n",
    "        return 'Roraima'\n",
    "    elif uf == 15:\n",
    "        return 'Pará'\n",
    "    elif uf == 16:\n",
    "        return 'Amapá'\n",
    "    elif uf == 17:\n",
    "        return 'Tocantins'\n",
    "    elif uf == 21:\n",
    "        return 'Maranhão'\n",
    "    elif uf == 22:\n",
    "        return 'Piauí'\n",
    "    elif uf == 23:\n",
    "        return 'Ceará'\n",
    "    elif uf == 24:\n",
    "        return 'Rio Grande do Norte'\n",
    "    elif uf == 25:\n",
    "        return 'Paraíba'\n",
    "    elif uf == 26:\n",
    "        return 'Pernambuco'\n",
    "    elif uf == 27:\n",
    "        return 'Alagoas'\n",
    "    elif uf == 28:\n",
    "        return 'Sergipe'\n",
    "    elif uf == 29:\n",
    "        return 'Bahia'\n",
    "    elif uf == 31:\n",
    "        return 'Minas Gerais'\n",
    "    elif uf == 32:\n",
    "        return 'Espírito Santo'\n",
    "    elif uf == 33:\n",
    "        return 'Rio de Janeiro'\n",
    "    elif uf == 35:\n",
    "        return 'São Paulo'\n",
    "    elif uf == 41:\n",
    "        return 'Paraná'\n",
    "    elif uf == 42:\n",
    "        return 'Santa Catarina'\n",
    "    elif uf == 43:\n",
    "        return 'Rio Grande do Sul'\n",
    "    elif uf == 50:\n",
    "        return 'Mato Grosso do Sul'\n",
    "    elif uf == 51:\n",
    "        return 'Mato Grosso'\n",
    "    elif uf == 52:\n",
    "        return 'Goiás'\n",
    "    elif uf == 53:\n",
    "        return 'Distrito Federal'"
   ]
  },
  {
   "cell_type": "code",
   "execution_count": 8,
   "metadata": {},
   "outputs": [
    {
     "data": {
      "text/plain": [
       "UF\n",
       "São Paulo              461\n",
       "Minas Gerais           372\n",
       "Rio Grande do Sul      325\n",
       "Rio de Janeiro         310\n",
       "Espírito Santo         267\n",
       "Paraná                 263\n",
       "Ceará                  242\n",
       "Pernambuco             223\n",
       "Santa Catarina         220\n",
       "Mato Grosso do Sul     203\n",
       "Goiás                  195\n",
       "Bahia                  190\n",
       "Sergipe                178\n",
       "Rio Grande do Norte    176\n",
       "Paraíba                175\n",
       "Piauí                  147\n",
       "Distrito Federal       145\n",
       "Maranhão               137\n",
       "Alagoas                116\n",
       "Mato Grosso             97\n",
       "Tocantins               80\n",
       "Rondônia                77\n",
       "Acre                    71\n",
       "Pará                    70\n",
       "Amazonas                69\n",
       "Roraima                 58\n",
       "Amapá                   38\n",
       "Name: count, dtype: int64"
      ]
     },
     "execution_count": 8,
     "metadata": {},
     "output_type": "execute_result"
    }
   ],
   "source": [
    "data['UF'] = data['UF'].apply(set_uf)\n",
    "data.UF.value_counts()"
   ]
  },
  {
   "cell_type": "markdown",
   "metadata": {},
   "source": [
    "### Classificando hábitos alimentares"
   ]
  },
  {
   "cell_type": "code",
   "execution_count": 9,
   "metadata": {},
   "outputs": [],
   "source": [
    "nice_foods = [\n",
    "    'Consumo de Feijão por Semana',\n",
    "    'Consumo de Verdura ou Legume por Semana',\n",
    "    'Consumo de Suco Natural por Semana',\n",
    "    'Consumo de Frutas por Semana',\n",
    "]\n",
    "\n",
    "moderate_foods = [\n",
    "    'Consumo de Carne Vermelha por Semana',\n",
    "    'Consumo de Frango por Semana',\n",
    "    'Consumo de Peixe por Semana',\n",
    "    'Consumo de Leite por Semana',\n",
    "]\n",
    "\n",
    "bad_foods = [\n",
    "    'Consumo de Suco Industrializado por Semana',\n",
    "    'Consumo de Refrigerante por Semana',\n",
    "    'Consumo de Doces por Semana',\n",
    "    'Consumo de Fast Food por Semana',\n",
    "    'Consumo de Bebida Alcoólica por Semana',\n",
    "]"
   ]
  },
  {
   "cell_type": "code",
   "execution_count": 10,
   "metadata": {},
   "outputs": [],
   "source": [
    "def food_score(data):\n",
    "    pontos = 0\n",
    "\n",
    "    for food in nice_foods:\n",
    "        if data[food] >= 4:\n",
    "            pontos += 2\n",
    "        elif data[food] >= 2:\n",
    "            pontos += 1\n",
    "\n",
    "    for food in moderate_foods:\n",
    "        if data[food] >= 4:\n",
    "            pontos += 1\n",
    "        elif data[food] >= 2:\n",
    "            pontos += 2\n",
    "\n",
    "    for food in bad_foods:\n",
    "        if data[food] <= 1:\n",
    "            pontos += 2\n",
    "        elif data[food] <= 3:\n",
    "            pontos += 1\n",
    "\n",
    "    return pontos"
   ]
  },
  {
   "cell_type": "code",
   "execution_count": 11,
   "metadata": {},
   "outputs": [],
   "source": [
    "def set_habito_alimentares(soma):\n",
    "    if soma >= 21:\n",
    "        return 'Bom'\n",
    "    elif soma >= 14:\n",
    "        return 'Regular'\n",
    "    else:\n",
    "        return 'Ruim' "
   ]
  },
  {
   "cell_type": "code",
   "execution_count": 12,
   "metadata": {},
   "outputs": [
    {
     "data": {
      "text/plain": [
       "Hábitos Alimentares\n",
       "Regular    3301\n",
       "Ruim       1332\n",
       "Bom         272\n",
       "Name: count, dtype: int64"
      ]
     },
     "execution_count": 12,
     "metadata": {},
     "output_type": "execute_result"
    }
   ],
   "source": [
    "data['Hábitos Alimentares'] = data.apply(lambda row: set_habito_alimentares(food_score(row)), axis=1)\n",
    "data['Hábitos Alimentares'].value_counts()"
   ]
  }
 ],
 "metadata": {
  "kernelspec": {
   "display_name": ".venv",
   "language": "python",
   "name": "python3"
  },
  "language_info": {
   "codemirror_mode": {
    "name": "ipython",
    "version": 3
   },
   "file_extension": ".py",
   "mimetype": "text/x-python",
   "name": "python",
   "nbconvert_exporter": "python",
   "pygments_lexer": "ipython3",
   "version": "3.13.2"
  }
 },
 "nbformat": 4,
 "nbformat_minor": 2
}
