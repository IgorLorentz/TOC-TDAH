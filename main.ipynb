{
 "cells": [
  {
   "cell_type": "markdown",
   "metadata": {},
   "source": [
    "## Importando as bibliotecas"
   ]
  },
  {
   "cell_type": "code",
   "execution_count": 193,
   "metadata": {},
   "outputs": [],
   "source": [
    "import pandas as pd\n",
    "import numpy as np"
   ]
  },
  {
   "cell_type": "markdown",
   "metadata": {},
   "source": [
    "## Filtrando a base e limpando os dados"
   ]
  },
  {
   "cell_type": "code",
   "execution_count": 194,
   "metadata": {},
   "outputs": [],
   "source": [
    "data = pd.read_csv('PNS_2019.csv', sep='\\t', encoding='utf-8')"
   ]
  },
  {
   "cell_type": "code",
   "execution_count": 195,
   "metadata": {},
   "outputs": [],
   "source": [
    "filter_columns = [\n",
    "    'Unidade da Federação', \n",
    "    'Tipo de situação censitária', \n",
    "    'Algum morador tem acesso à Internet no domicílio por meio de computador, tablet, telefone móvel celular, televisão ou outro equipamento?',\n",
    "    'Sexo', \n",
    "    'Idade do morador na data de referência', \n",
    "    'Cor ou raça', \n",
    "    'Sabe ler e escrever', \n",
    "    'Qual foi o curso mais elevado que ___frequentou ',\n",
    "    'tem algum plano de saúde médico particular, de empresa ou órgão público?', \n",
    "    'Em geral, como o(a) Sr(a) avalia a sua saúde', \n",
    "    'Algum médico já lhe deu o diagnóstico de hipertensão arterial (pressão alta)? ', \n",
    "    'Algum médico já lhe deu o diagnóstico de diabetes? ',\n",
    "    'Algum médico já lhe deu o diagnóstico de colesterol alto? ',\n",
    "    'Algum médico já lhe deu o diagnóstico de AVC (Acidente Vascular Cerebral) ou derrame?', \n",
    "    'Algum médico já lhe deu o diagnóstico de asma (ou bronquite asmática)? ', \n",
    "    'Algum médico já lhe deu o diagnóstico de artrite ou reumatismo? ',\n",
    "    'Algum médico já lhe deu o diagnóstico de DORT? ',\n",
    "    'Algum médico ou profissional de saúde mental (como psiquiatra ou psicólogo) já lhe deu o diagnóstico de depressão?',\n",
    "    'Algum médico ou profissional de saúde (como psiquiatra ou psicólogo) já lhe deu o diagnóstico de outra doença mental, como transtorno de ansiedade, síndrome do pânico, esquizofrenia, transtorno bipolar, psicose ou TOC (Transtorno Obsessivo Compulsivo) etc? ',\n",
    "    'Diagnóstico de Esquizofrenia ',\n",
    "    'Diagnóstico de Transtorno bipolar ',\n",
    "    'Diagnóstico de TOC (Transtorno obsessivo compulsivo) ',\n",
    "    'O(A) Sr(a) visita o médico/serviço de saúde regularmente por causa dessa doença mental ou só quando tem algum problema?',\n",
    "    'Por causa da doença mental usa medicamentos ou injeções ',\n",
    "    'Por causa da doença mental Faz acompanhamento regular com profissional de saúde',\n",
    "    'Em geral, em que grau essa doença mental limita as suas atividades habituais (tais como trabalhar, realizar afazeres domésticos etc.)? ',\n",
    "    'Quando foi a última vez que o(a) sr(a) consultou com um(a) médico(a)?',\n",
    "    'Por qual motivo o(a) sr(a) precisou consultar com um(a) médico(a)',\n",
    "    'É difícil para você conseguir atendimento médico no(a) \"serviço de saúde” quando pensa que é necessário?',\n",
    "    'Quando o(a) “serviço de saúde” está aberto(a), você consegue aconselhamento rápido pelo telefone se precisar?',\n",
    "    'Que idade o(a) Sr(a) tinha no primeiro diagnóstico de doença mental? ',\n",
    "    'Por causa da doença mental faz psicoterapia ',\n",
    "    'Em quantos dias da semana o(a) Sr(a) costuma comer feijão? ',\n",
    "    'Em quantos dias da semana, o(a) Sr(a) costuma comer pelo menos um tipo de verdura ou legume (sem contar batata, mandioca, cará ou inhame) como alface, tomate, couve, cenoura, chuchu, berinjela, abobrinha? ',\n",
    "    'Em quantos dias da semana o(a) Sr(a) costuma comer carne vermelha (boi, porco, cabrito, bode, ovelha etc.)? ',\n",
    "    'Em quantos dias da semana o(a) Sr(a) costuma comer frango/galinha? ',\n",
    "    'Em quantos dias da semana o(a) Sr(a) costuma comer peixe? ',\n",
    "    'Em quantos dias da semana o(a) Sr(a) costuma tomar suco de caixinha/lata ou refresco em pó ? ',\n",
    "    'Em quantos dias da semana o(a) Sr(a) costuma tomar suco de fruta natural (incluída a polpa de fruta congelada)? ',\n",
    "    'Em quantos dias da semana o(a) Sr(a) costuma comer frutas? ',\n",
    "    'Em quantos dias da semana o(a) Sr(a) costuma tomar refrigerante? ',\n",
    "    'Em quantos dias da semana o(a) Sr(a) costuma tomar leite? (de origem animal: vaca, cabra, búfala etc.) ',\n",
    "    'Em quantos dias da semana o(a) Sr(a) costuma comer alimentos doces como biscoito/bolacha recheado, chocolate, gelatina, balas e outros?',\n",
    "    'Em quantos dias da semana o(a) Sr(a) costuma substituir a refeição do almoço por lanches rápidos como sanduíches, salgados, pizza, cachorro quente, etc? ',\n",
    "    'Quantos dias por semana o(a) Sr(a) costuma consumir alguma bebida alcoólica? ',\n",
    "    'Quantos dias por semana o(a) Sr(a) costuma  (costumava)praticar exercício físico ou esporte?'\n",
    "]\n",
    "\n",
    "data = data[filter_columns]"
   ]
  },
  {
   "cell_type": "code",
   "execution_count": 196,
   "metadata": {},
   "outputs": [],
   "source": [
    "data.rename(columns={\n",
    "    'Unidade da Federação': 'UF',\n",
    "    'Tipo de situação censitária': 'Situação Censitária',\n",
    "    'Algum morador tem acesso à Internet no domicílio por meio de computador, tablet, telefone móvel celular, televisão ou outro equipamento?': 'Acesso à Internet',\n",
    "    'Idade do morador na data de referência': 'Idade',\n",
    "    'Cor ou raça': 'Cor/Raça',\n",
    "    'Sabe ler e escrever': 'Sabe Ler/Escrever',\n",
    "    'Qual foi o curso mais elevado que ___frequentou ': 'Curso Mais Elevado',\n",
    "    'tem algum plano de saúde médico particular, de empresa ou órgão público?': 'Possuí Plano de Saúde',\n",
    "    'Em geral, como o(a) Sr(a) avalia a sua saúde': 'Autoavaliação da Saúde',\n",
    "    'Algum médico já lhe deu o diagnóstico de hipertensão arterial (pressão alta)? ': 'Diagnóstico de Hipertensão',\n",
    "    'Algum médico já lhe deu o diagnóstico de diabetes? ': 'Diagnóstico de Diabetes',\n",
    "    'Algum médico já lhe deu o diagnóstico de colesterol alto? ': 'Diagnóstico de Colesterol Alto',\n",
    "    'Algum médico já lhe deu o diagnóstico de AVC (Acidente Vascular Cerebral) ou derrame?': 'Diagnóstico de AVC',\n",
    "    'Algum médico já lhe deu o diagnóstico de asma (ou bronquite asmática)? ': 'Diagnóstico de Asma',\n",
    "    'Algum médico já lhe deu o diagnóstico de artrite ou reumatismo? ': 'Diagnóstico de Artrite/Reumatismo',\n",
    "    'Algum médico já lhe deu o diagnóstico de DORT? ': 'Diagnóstico de DORT',\n",
    "    'Algum médico ou profissional de saúde mental (como psiquiatra ou psicólogo) já lhe deu o diagnóstico de depressão?': 'Diagnóstico de Depressão',\n",
    "    'Algum médico ou profissional de saúde (como psiquiatra ou psicólogo) já lhe deu o diagnóstico de outra doença mental, como transtorno de ansiedade, síndrome do pânico, esquizofrenia, transtorno bipolar, psicose ou TOC (Transtorno Obsessivo Compulsivo) etc? ': 'Diagnóstico de Outra Doença Mental',\n",
    "    'Diagnóstico de Esquizofrenia ': 'Diagnóstico de Esquizofrenia',\n",
    "    'Diagnóstico de Transtorno bipolar ': 'Diagnóstico de Transtorno Bipolar',\n",
    "    'Diagnóstico de TOC (Transtorno obsessivo compulsivo) ': 'Diagnóstico de TOC',\n",
    "    'O(A) Sr(a) visita o médico/serviço de saúde regularmente por causa dessa doença mental ou só quando tem algum problema?': 'Visita Médico Regularmente',\n",
    "    'Por causa da doença mental usa medicamentos ou injeções ': 'Uso Medicamentos/Injeções',\n",
    "    'Por causa da doença mental Faz acompanhamento regular com profissional de saúde': 'Acompanhamento Regular',\n",
    "    'Em geral, em que grau essa doença mental limita as suas atividades habituais (tais como trabalhar, realizar afazeres domésticos etc.)? ': 'Limitação das Atividades Diárias',\n",
    "    'Quando foi a última vez que o(a) sr(a) consultou com um(a) médico(a)?': 'Última Consulta Médica',\n",
    "    'Por qual motivo o(a) sr(a) precisou consultar com um(a) médico(a)': 'Motivo da Consulta Médica',\n",
    "    'É difícil para você conseguir atendimento médico no(a) \"serviço de saúde” quando pensa que é necessário?': 'Dificuldade Atendimento Médico',\n",
    "    'Quando o(a) “serviço de saúde” está aberto(a), você consegue aconselhamento rápido pelo telefone se precisar?': 'Aconselhamento Médico Rápido por Telefone',\n",
    "    'Que idade o(a) Sr(a) tinha no primeiro diagnóstico de doença mental? ': 'Idade Primeiro Diagnóstico de Doença Mental',\n",
    "    'Por causa da doença mental faz psicoterapia ': 'Faz Psicoterapia',\n",
    "    'Em quantos dias da semana o(a) Sr(a) costuma comer feijão? ': 'Consumo de Feijão por Semana',\n",
    "    'Em quantos dias da semana, o(a) Sr(a) costuma comer pelo menos um tipo de verdura ou legume (sem contar batata, mandioca, cará ou inhame) como alface, tomate, couve, cenoura, chuchu, berinjela, abobrinha? ': 'Consumo de Verdura ou Legume por Semana',\n",
    "    'Em quantos dias da semana o(a) Sr(a) costuma comer carne vermelha (boi, porco, cabrito, bode, ovelha etc.)? ': 'Consumo de Carne Vermelha por Semana',\n",
    "    'Em quantos dias da semana o(a) Sr(a) costuma comer frango/galinha? ': 'Consumo de Frango por Semana',\n",
    "    'Em quantos dias da semana o(a) Sr(a) costuma comer peixe? ': 'Consumo de Peixe por Semana',\n",
    "    'Em quantos dias da semana o(a) Sr(a) costuma tomar suco de caixinha/lata ou refresco em pó ? ': 'Consumo de Suco Industrializado por Semana',\n",
    "    'Em quantos dias da semana o(a) Sr(a) costuma tomar suco de fruta natural (incluída a polpa de fruta congelada)? ': 'Consumo de Suco Natural por Semana',\n",
    "    'Em quantos dias da semana o(a) Sr(a) costuma comer frutas? ': 'Consumo de Frutas por Semana',\n",
    "    'Em quantos dias da semana o(a) Sr(a) costuma tomar refrigerante? ': 'Consumo de Refrigerante por Semana',\n",
    "    'Em quantos dias da semana o(a) Sr(a) costuma tomar leite? (de origem animal: vaca, cabra, búfala etc.) ': 'Consumo de Leite por Semana',\n",
    "    'Em quantos dias da semana o(a) Sr(a) costuma comer alimentos doces como biscoito/bolacha recheado, chocolate, gelatina, balas e outros?': 'Consumo de Doces por Semana',\n",
    "    'Em quantos dias da semana o(a) Sr(a) costuma substituir a refeição do almoço por lanches rápidos como sanduíches, salgados, pizza, cachorro quente, etc? ': 'Consumo de Fast Food por Semana',\n",
    "    'Quantos dias por semana o(a) Sr(a) costuma consumir alguma bebida alcoólica? ': 'Consumo de Bebida Alcoólica por Semana',\n",
    "    'Quantos dias por semana o(a) Sr(a) costuma  (costumava)praticar exercício físico ou esporte?': 'Pratica de Exercício por Semana'\n",
    "}, inplace=True)\n"
   ]
  },
  {
   "cell_type": "markdown",
   "metadata": {},
   "source": [
    "### Removendo as linhas em que o atributo target - 'Diagnóstico de TOC' - seja nulo/NAN"
   ]
  },
  {
   "cell_type": "code",
   "execution_count": 197,
   "metadata": {},
   "outputs": [
    {
     "name": "stdout",
     "output_type": "stream",
     "text": [
      "Diagnóstico de TOC\n",
      "1.0    3741\n",
      "2.0    1164\n",
      "Name: count, dtype: int64\n",
      "Quantidade de nulos:  0\n"
     ]
    }
   ],
   "source": [
    "data = data.dropna(subset=['Diagnóstico de TOC'])\n",
    "print(data['Diagnóstico de TOC'].value_counts())\n",
    "print('Quantidade de nulos: ', data['Diagnóstico de TOC'].isnull().sum())"
   ]
  },
  {
   "cell_type": "code",
   "execution_count": 198,
   "metadata": {},
   "outputs": [
    {
     "name": "stdout",
     "output_type": "stream",
     "text": [
      "Linhas:  4905 \n",
      "Colunas:  46\n"
     ]
    }
   ],
   "source": [
    "print('Linhas: ', data.shape[0], '\\nColunas: ', data.shape[1])"
   ]
  },
  {
   "cell_type": "markdown",
   "metadata": {},
   "source": [
    "### Mapeamento dos atributos"
   ]
  },
  {
   "cell_type": "code",
   "execution_count": 199,
   "metadata": {},
   "outputs": [],
   "source": [
    "def set_uf(uf):\n",
    "    if uf == 11:\n",
    "        return 'Rondônia'\n",
    "    elif uf == 12:\n",
    "        return 'Acre'\n",
    "    elif uf == 13:\n",
    "        return 'Amazonas'\n",
    "    elif uf == 14:\n",
    "        return 'Roraima'\n",
    "    elif uf == 15:\n",
    "        return 'Pará'\n",
    "    elif uf == 16:\n",
    "        return 'Amapá'\n",
    "    elif uf == 17:\n",
    "        return 'Tocantins'\n",
    "    elif uf == 21:\n",
    "        return 'Maranhão'\n",
    "    elif uf == 22:\n",
    "        return 'Piauí'\n",
    "    elif uf == 23:\n",
    "        return 'Ceará'\n",
    "    elif uf == 24:\n",
    "        return 'Rio Grande do Norte'\n",
    "    elif uf == 25:\n",
    "        return 'Paraíba'\n",
    "    elif uf == 26:\n",
    "        return 'Pernambuco'\n",
    "    elif uf == 27:\n",
    "        return 'Alagoas'\n",
    "    elif uf == 28:\n",
    "        return 'Sergipe'\n",
    "    elif uf == 29:\n",
    "        return 'Bahia'\n",
    "    elif uf == 31:\n",
    "        return 'Minas Gerais'\n",
    "    elif uf == 32:\n",
    "        return 'Espírito Santo'\n",
    "    elif uf == 33:\n",
    "        return 'Rio de Janeiro'\n",
    "    elif uf == 35:\n",
    "        return 'São Paulo'\n",
    "    elif uf == 41:\n",
    "        return 'Paraná'\n",
    "    elif uf == 42:\n",
    "        return 'Santa Catarina'\n",
    "    elif uf == 43:\n",
    "        return 'Rio Grande do Sul'\n",
    "    elif uf == 50:\n",
    "        return 'Mato Grosso do Sul'\n",
    "    elif uf == 51:\n",
    "        return 'Mato Grosso'\n",
    "    elif uf == 52:\n",
    "        return 'Goiás'\n",
    "    elif uf == 53:\n",
    "        return 'Distrito Federal'"
   ]
  },
  {
   "cell_type": "code",
   "execution_count": 200,
   "metadata": {},
   "outputs": [
    {
     "data": {
      "text/plain": [
       "UF\n",
       "São Paulo              461\n",
       "Minas Gerais           372\n",
       "Rio Grande do Sul      325\n",
       "Rio de Janeiro         310\n",
       "Espírito Santo         267\n",
       "Paraná                 263\n",
       "Ceará                  242\n",
       "Pernambuco             223\n",
       "Santa Catarina         220\n",
       "Mato Grosso do Sul     203\n",
       "Goiás                  195\n",
       "Bahia                  190\n",
       "Sergipe                178\n",
       "Rio Grande do Norte    176\n",
       "Paraíba                175\n",
       "Piauí                  147\n",
       "Distrito Federal       145\n",
       "Maranhão               137\n",
       "Alagoas                116\n",
       "Mato Grosso             97\n",
       "Tocantins               80\n",
       "Rondônia                77\n",
       "Acre                    71\n",
       "Pará                    70\n",
       "Amazonas                69\n",
       "Roraima                 58\n",
       "Amapá                   38\n",
       "Name: count, dtype: int64"
      ]
     },
     "execution_count": 200,
     "metadata": {},
     "output_type": "execute_result"
    }
   ],
   "source": [
    "data['UF'] = data['UF'].apply(set_uf)\n",
    "data.UF.value_counts()"
   ]
  },
  {
   "cell_type": "code",
   "execution_count": 201,
   "metadata": {},
   "outputs": [],
   "source": [
    "\"Situação Censitária \"\n",
    "def set_SituacaoCensitaria(SituacaoCensitaria):\n",
    "    if SituacaoCensitaria == 1:\n",
    "        return 'Urbano'\n",
    "    elif SituacaoCensitaria == 2:\n",
    "        return 'Rural'\n",
    "       "
   ]
  },
  {
   "cell_type": "code",
   "execution_count": 202,
   "metadata": {},
   "outputs": [
    {
     "data": {
      "text/plain": [
       "Situação Censitária\n",
       "Urbano    4221\n",
       "Rural      684\n",
       "Name: count, dtype: int64"
      ]
     },
     "execution_count": 202,
     "metadata": {},
     "output_type": "execute_result"
    }
   ],
   "source": [
    "data['Situação Censitária'] = data['Situação Censitária'].apply(set_SituacaoCensitaria)\n",
    "data['Situação Censitária'].value_counts()"
   ]
  },
  {
   "cell_type": "code",
   "execution_count": 203,
   "metadata": {},
   "outputs": [],
   "source": [
    "\"Acesso à Internet\"\n",
    "\n",
    "def set_AcessoInternet(AcessoInternet):\n",
    "    if pd.isna(AcessoInternet):\n",
    "        return 'Não aplicável'\n",
    "    elif AcessoInternet == 1:\n",
    "        return 'Sim'\n",
    "    elif AcessoInternet == 2:\n",
    "        return 'Não'\n",
    "    elif AcessoInternet == 9:\n",
    "        return 'Ignorado'\n"
   ]
  },
  {
   "cell_type": "code",
   "execution_count": 204,
   "metadata": {},
   "outputs": [
    {
     "data": {
      "text/plain": [
       "Acesso à Internet\n",
       "Sim    4210\n",
       "Não     695\n",
       "Name: count, dtype: int64"
      ]
     },
     "execution_count": 204,
     "metadata": {},
     "output_type": "execute_result"
    }
   ],
   "source": [
    "data['Acesso à Internet'] = data['Acesso à Internet'].apply(set_AcessoInternet)\n",
    "data['Acesso à Internet'].value_counts()"
   ]
  },
  {
   "cell_type": "code",
   "execution_count": 205,
   "metadata": {},
   "outputs": [],
   "source": [
    "\"Cor/Raça\"\n",
    "def set_CorRaca(CorRaca):\n",
    "    if pd.isna(CorRaca):\n",
    "        return 'Não aplicável'\n",
    "    elif CorRaca == 1:\n",
    "        return 'Branca'\n",
    "    elif CorRaca == 2:\n",
    "        return 'Preta'\n",
    "    elif CorRaca == 3:\n",
    "        return 'Amarela'\n",
    "    elif CorRaca == 4:\n",
    "        return 'Parda'\n",
    "    elif CorRaca == 5:\n",
    "        return 'Indígena'\n",
    "    elif CorRaca == 6:\n",
    "        return 'Ignorado'\n",
    "    "
   ]
  },
  {
   "cell_type": "code",
   "execution_count": 206,
   "metadata": {},
   "outputs": [
    {
     "data": {
      "text/plain": [
       "Cor/Raça\n",
       "Branca      2209\n",
       "Parda       2177\n",
       "Preta        455\n",
       "Indígena      34\n",
       "Amarela       30\n",
       "Name: count, dtype: int64"
      ]
     },
     "execution_count": 206,
     "metadata": {},
     "output_type": "execute_result"
    }
   ],
   "source": [
    "data['Cor/Raça'] = data['Cor/Raça'].apply(set_CorRaca)\n",
    "data['Cor/Raça'].value_counts()"
   ]
  },
  {
   "cell_type": "code",
   "execution_count": 207,
   "metadata": {},
   "outputs": [],
   "source": [
    "\"Sabe Ler/Escrever\"\n",
    "def set_LerEscrever(LerEscrever):\n",
    "    if pd.isna(LerEscrever):\n",
    "        return 'Não aplicável'\n",
    "    elif LerEscrever == 1:\n",
    "        return 'Sim'\n",
    "    elif LerEscrever == 2:\n",
    "        return 'Não'\n",
    "    elif LerEscrever == 9:\n",
    "        return 'Ignorado'\n",
    "    "
   ]
  },
  {
   "cell_type": "code",
   "execution_count": 208,
   "metadata": {},
   "outputs": [
    {
     "data": {
      "text/plain": [
       "Sabe Ler/Escrever\n",
       "Sim    4601\n",
       "Não     304\n",
       "Name: count, dtype: int64"
      ]
     },
     "execution_count": 208,
     "metadata": {},
     "output_type": "execute_result"
    }
   ],
   "source": [
    "data['Sabe Ler/Escrever'] = data['Sabe Ler/Escrever'].apply(set_LerEscrever)\n",
    "data['Sabe Ler/Escrever'].value_counts()"
   ]
  },
  {
   "cell_type": "code",
   "execution_count": 209,
   "metadata": {},
   "outputs": [],
   "source": [
    "\"Curso Mais Elevado\"\n",
    "def set_CursoMaisElevado(CursoMaisElevado):\n",
    "    if pd.isna(CursoMaisElevado):\n",
    "        return 'Não aplicável'\n",
    "    elif CursoMaisElevado == 1:\n",
    "        return 'Creche'\n",
    "    elif CursoMaisElevado == 2:\n",
    "        return 'Pré-escola'\n",
    "    elif CursoMaisElevado == 3:\n",
    "        return 'Classe de alfabetização'\n",
    "    elif CursoMaisElevado == 4:\n",
    "        return 'Alfabetização de jovens e adultos'\n",
    "    elif CursoMaisElevado == 5:\n",
    "        return 'Antigo primário (elementar)'\n",
    "    elif CursoMaisElevado == 6:\n",
    "        return 'Antigo ginasial (médio 1º ciclo)'\n",
    "    elif CursoMaisElevado == 7:\n",
    "        return 'Regular do ensino fundamental ou do 1º grau'\n",
    "    elif CursoMaisElevado == 8:\n",
    "        return 'Educação de jovens e adultos (EJA) ou supletivo do ensino fundamental'\n",
    "    elif CursoMaisElevado == 9:\n",
    "        return 'Antigo científico, clássico etc. (médio 2º ciclo)'\n",
    "    elif CursoMaisElevado == 10:\n",
    "        return 'Regular do ensino médio ou do 2º grau'\n",
    "    elif CursoMaisElevado == 11:\n",
    "        return 'Educação de jovens e adultos (EJA) ou supletivo do ensino médio'\n",
    "    elif CursoMaisElevado == 12:\n",
    "        return 'Superior – graduação'\n",
    "    elif CursoMaisElevado == 13:\n",
    "        return 'Especialização de nível superior (duração mínima de 360 horas)'\n",
    "    elif CursoMaisElevado == 14:\n",
    "        return 'Mestrado'\n",
    "    elif CursoMaisElevado == 15:\n",
    "        return 'Doutorado'\n",
    "    elif CursoMaisElevado == 99:\n",
    "        return 'Ignorado'\n",
    "    "
   ]
  },
  {
   "cell_type": "code",
   "execution_count": 210,
   "metadata": {},
   "outputs": [
    {
     "data": {
      "text/plain": [
       "Curso Mais Elevado\n",
       "Regular do ensino médio ou do 2º grau                                    1271\n",
       "Regular do ensino fundamental ou do 1º grau                               874\n",
       "Superior – graduação                                                      818\n",
       "Não aplicável                                                             744\n",
       "Antigo primário (elementar)                                               409\n",
       "Especialização de nível superior (duração mínima de 360 horas)            316\n",
       "Antigo ginasial (médio 1º ciclo)                                          100\n",
       "Educação de jovens e adultos (EJA) ou supletivo do ensino médio            91\n",
       "Antigo científico, clássico etc. (médio 2º ciclo)                          72\n",
       "Educação de jovens e adultos (EJA) ou supletivo do ensino fundamental      64\n",
       "Mestrado                                                                   49\n",
       "Classe de alfabetização                                                    45\n",
       "Doutorado                                                                  22\n",
       "Alfabetização de jovens e adultos                                          18\n",
       "Pré-escola                                                                 11\n",
       "Creche                                                                      1\n",
       "Name: count, dtype: int64"
      ]
     },
     "execution_count": 210,
     "metadata": {},
     "output_type": "execute_result"
    }
   ],
   "source": [
    "data['Curso Mais Elevado'] = data['Curso Mais Elevado'].apply(set_CursoMaisElevado)\n",
    "data['Curso Mais Elevado'].value_counts()"
   ]
  },
  {
   "cell_type": "code",
   "execution_count": 211,
   "metadata": {},
   "outputs": [],
   "source": [
    "\"Possuí Plano de Saúde\"\n",
    "def set_PlanoDeSaude(PlanoDeSaude):\n",
    "    if pd.isna(PlanoDeSaude):\n",
    "        return 'Não aplicável'\n",
    "    elif PlanoDeSaude == 1:\n",
    "        return 'Sim'\n",
    "    elif PlanoDeSaude == 2:\n",
    "        return 'Não'\n",
    "    elif PlanoDeSaude == 9:\n",
    "        return 'Ignorado'\n",
    "    "
   ]
  },
  {
   "cell_type": "code",
   "execution_count": 212,
   "metadata": {},
   "outputs": [
    {
     "data": {
      "text/plain": [
       "Possuí Plano de Saúde\n",
       "Não    3217\n",
       "Sim    1688\n",
       "Name: count, dtype: int64"
      ]
     },
     "execution_count": 212,
     "metadata": {},
     "output_type": "execute_result"
    }
   ],
   "source": [
    "data['Possuí Plano de Saúde'] = data['Possuí Plano de Saúde'].apply(set_PlanoDeSaude)\n",
    "data['Possuí Plano de Saúde'].value_counts()"
   ]
  },
  {
   "cell_type": "code",
   "execution_count": 213,
   "metadata": {},
   "outputs": [],
   "source": [
    "\"Autoavaliação da Saúde\"\n",
    "def set_AutoavaliacaoSaude(AutoavaliacaoSaude):\n",
    "    if pd.isna(AutoavaliacaoSaude):\n",
    "        return 'Não aplicável'\n",
    "    elif AutoavaliacaoSaude == 1:\n",
    "        return 'Muito boa'\n",
    "    elif AutoavaliacaoSaude == 2:\n",
    "        return 'Boa'\n",
    "    elif AutoavaliacaoSaude == 3:\n",
    "        return 'Regular'\n",
    "    elif AutoavaliacaoSaude == 4:\n",
    "        return 'Ruim'\n",
    "    elif AutoavaliacaoSaude == 5:\n",
    "        return 'Muito ruim'\n",
    "    elif AutoavaliacaoSaude == 9:\n",
    "        return 'Ignorado'\n"
   ]
  },
  {
   "cell_type": "code",
   "execution_count": 214,
   "metadata": {},
   "outputs": [
    {
     "data": {
      "text/plain": [
       "Autoavaliação da Saúde\n",
       "Regular       1896\n",
       "Boa           1860\n",
       "Muito boa      495\n",
       "Ruim           485\n",
       "Muito ruim     169\n",
       "Name: count, dtype: int64"
      ]
     },
     "execution_count": 214,
     "metadata": {},
     "output_type": "execute_result"
    }
   ],
   "source": [
    "data['Autoavaliação da Saúde'] = data['Autoavaliação da Saúde'].apply(set_AutoavaliacaoSaude)\n",
    "data['Autoavaliação da Saúde'].value_counts()"
   ]
  },
  {
   "cell_type": "code",
   "execution_count": 215,
   "metadata": {},
   "outputs": [],
   "source": [
    "\"Diagnóstico de Hipertensão\"\n",
    "def set_Hipertensao(Hipertensao):\n",
    "    if pd.isna(Hipertensao):\n",
    "        return 'Não aplicável'\n",
    "    elif Hipertensao == 1:\n",
    "        return 'Sim'\n",
    "    elif Hipertensao == 2:\n",
    "        return 'Não'\n",
    "    elif Hipertensao == 9:\n",
    "        return 'Ignorado'\n"
   ]
  },
  {
   "cell_type": "code",
   "execution_count": 216,
   "metadata": {},
   "outputs": [
    {
     "data": {
      "text/plain": [
       "Diagnóstico de Hipertensão\n",
       "Não              3346\n",
       "Sim              1526\n",
       "Não aplicável      33\n",
       "Name: count, dtype: int64"
      ]
     },
     "execution_count": 216,
     "metadata": {},
     "output_type": "execute_result"
    }
   ],
   "source": [
    "data['Diagnóstico de Hipertensão'] = data['Diagnóstico de Hipertensão'].apply(set_Hipertensao)\n",
    "data['Diagnóstico de Hipertensão'].value_counts()"
   ]
  },
  {
   "cell_type": "code",
   "execution_count": 217,
   "metadata": {},
   "outputs": [],
   "source": [
    "\"Diagnóstico de Diabetes\"\n",
    "def set_Diabetes(Diabetes):\n",
    "    if pd.isna(Diabetes):\n",
    "        return 'Não aplicável'\n",
    "    elif Diabetes == 1:\n",
    "        return 'Sim'\n",
    "    elif Diabetes == 2:\n",
    "        return 'Não'\n",
    "    elif Diabetes == 9:\n",
    "        return 'Ignorado'\n"
   ]
  },
  {
   "cell_type": "code",
   "execution_count": 218,
   "metadata": {},
   "outputs": [
    {
     "data": {
      "text/plain": [
       "Diagnóstico de Diabetes\n",
       "Não              4390\n",
       "Sim               392\n",
       "Não aplicável     123\n",
       "Name: count, dtype: int64"
      ]
     },
     "execution_count": 218,
     "metadata": {},
     "output_type": "execute_result"
    }
   ],
   "source": [
    "data['Diagnóstico de Diabetes'] = data['Diagnóstico de Diabetes'].apply(set_Diabetes)\n",
    "data['Diagnóstico de Diabetes'].value_counts()"
   ]
  },
  {
   "cell_type": "code",
   "execution_count": 219,
   "metadata": {},
   "outputs": [],
   "source": [
    "\"Diagnóstico de Colesterol Alto\"\n",
    "def set_ColesterolAlto(ColesterolAlto):\n",
    "    if pd.isna(ColesterolAlto):\n",
    "        return 'Não aplicável'\n",
    "    elif ColesterolAlto == 1:\n",
    "        return 'Sim'\n",
    "    elif ColesterolAlto == 2:\n",
    "        return 'Não'\n",
    "    elif ColesterolAlto == 9:\n",
    "        return 'Ignorado'\n"
   ]
  },
  {
   "cell_type": "code",
   "execution_count": 220,
   "metadata": {},
   "outputs": [
    {
     "data": {
      "text/plain": [
       "Diagnóstico de Colesterol Alto\n",
       "Não              3512\n",
       "Sim              1231\n",
       "Não aplicável     162\n",
       "Name: count, dtype: int64"
      ]
     },
     "execution_count": 220,
     "metadata": {},
     "output_type": "execute_result"
    }
   ],
   "source": [
    "data['Diagnóstico de Colesterol Alto'] = data['Diagnóstico de Colesterol Alto'].apply(set_ColesterolAlto)\n",
    "data['Diagnóstico de Colesterol Alto'].value_counts()"
   ]
  },
  {
   "cell_type": "code",
   "execution_count": 221,
   "metadata": {},
   "outputs": [],
   "source": [
    "\"Diagnóstico de AVC\"\n",
    "def set_AVC(AVC):\n",
    "    if pd.isna(AVC):\n",
    "        return 'Não aplicável'\n",
    "    elif AVC == 1:\n",
    "        return 'Sim'\n",
    "    elif AVC == 2:\n",
    "        return 'Não'\n",
    "    elif AVC == 9:\n",
    "        return 'Ignorado'\n"
   ]
  },
  {
   "cell_type": "code",
   "execution_count": 222,
   "metadata": {},
   "outputs": [
    {
     "data": {
      "text/plain": [
       "Diagnóstico de AVC\n",
       "Não    4764\n",
       "Sim     141\n",
       "Name: count, dtype: int64"
      ]
     },
     "execution_count": 222,
     "metadata": {},
     "output_type": "execute_result"
    }
   ],
   "source": [
    "data['Diagnóstico de AVC'] = data['Diagnóstico de AVC'].apply(set_AVC)\n",
    "data['Diagnóstico de AVC'].value_counts()"
   ]
  },
  {
   "cell_type": "code",
   "execution_count": 223,
   "metadata": {},
   "outputs": [],
   "source": [
    "\"Diagnóstico de Asma\"\n",
    "def set_Asma(Asma):\n",
    "    if pd.isna(Asma):\n",
    "        return 'Não aplicável'\n",
    "    elif Asma == 1:\n",
    "        return 'Sim'\n",
    "    elif Asma == 2:\n",
    "        return 'Não'\n",
    "    elif Asma == 9:\n",
    "        return 'Ignorado'\n"
   ]
  },
  {
   "cell_type": "code",
   "execution_count": 224,
   "metadata": {},
   "outputs": [
    {
     "data": {
      "text/plain": [
       "Diagnóstico de Asma\n",
       "Não    4400\n",
       "Sim     505\n",
       "Name: count, dtype: int64"
      ]
     },
     "execution_count": 224,
     "metadata": {},
     "output_type": "execute_result"
    }
   ],
   "source": [
    "data['Diagnóstico de Asma'] = data['Diagnóstico de Asma'].apply(set_Asma)\n",
    "data['Diagnóstico de Asma'].value_counts()"
   ]
  },
  {
   "cell_type": "code",
   "execution_count": 225,
   "metadata": {},
   "outputs": [],
   "source": [
    "\"Diagnóstico de Artrite/Reumatismo\"\n",
    "def set_ArtriteReumatismo(ArtriteReumatismo):\n",
    "    if pd.isna(ArtriteReumatismo):\n",
    "        return 'Não aplicável'\n",
    "    elif ArtriteReumatismo == 1:\n",
    "        return 'Sim'\n",
    "    elif ArtriteReumatismo == 2:\n",
    "        return 'Não'\n",
    "    elif ArtriteReumatismo == 9:\n",
    "        return 'Ignorado'"
   ]
  },
  {
   "cell_type": "code",
   "execution_count": 226,
   "metadata": {},
   "outputs": [
    {
     "data": {
      "text/plain": [
       "Diagnóstico de Artrite/Reumatismo\n",
       "Não    4164\n",
       "Sim     741\n",
       "Name: count, dtype: int64"
      ]
     },
     "execution_count": 226,
     "metadata": {},
     "output_type": "execute_result"
    }
   ],
   "source": [
    "data['Diagnóstico de Artrite/Reumatismo'] = data['Diagnóstico de Artrite/Reumatismo'].apply(set_ArtriteReumatismo)\n",
    "data['Diagnóstico de Artrite/Reumatismo'].value_counts()"
   ]
  },
  {
   "cell_type": "code",
   "execution_count": 227,
   "metadata": {},
   "outputs": [],
   "source": [
    "\"Diagnóstico de DORT\"\n",
    "def set_Dort(Dort):\n",
    "    if pd.isna(Dort):\n",
    "        return 'Não aplicável'\n",
    "    elif Dort == 1:\n",
    "        return 'Sim'\n",
    "    elif Dort == 2:\n",
    "        return 'Não'\n",
    "    elif Dort == 9:\n",
    "        return 'Ignorado'"
   ]
  },
  {
   "cell_type": "code",
   "execution_count": 228,
   "metadata": {},
   "outputs": [
    {
     "data": {
      "text/plain": [
       "Diagnóstico de DORT\n",
       "Não    4618\n",
       "Sim     287\n",
       "Name: count, dtype: int64"
      ]
     },
     "execution_count": 228,
     "metadata": {},
     "output_type": "execute_result"
    }
   ],
   "source": [
    "data['Diagnóstico de DORT'] = data['Diagnóstico de DORT'].apply(set_Dort)\n",
    "data['Diagnóstico de DORT'].value_counts()"
   ]
  },
  {
   "cell_type": "code",
   "execution_count": 229,
   "metadata": {},
   "outputs": [],
   "source": [
    "\"Diagnóstico de Depressão\"\n",
    "def set_Depressao(Depressao):\n",
    "    if pd.isna(Depressao):\n",
    "        return 'Não aplicável'\n",
    "    elif Depressao == 1:\n",
    "        return 'Sim'\n",
    "    elif Depressao == 2:\n",
    "        return 'Não'\n",
    "    elif Depressao == 9:\n",
    "        return 'Ignorado'"
   ]
  },
  {
   "cell_type": "code",
   "execution_count": 230,
   "metadata": {},
   "outputs": [
    {
     "data": {
      "text/plain": [
       "Diagnóstico de Depressão\n",
       "Não aplicável    2626\n",
       "Sim              2165\n",
       "Não               113\n",
       "Name: count, dtype: int64"
      ]
     },
     "execution_count": 230,
     "metadata": {},
     "output_type": "execute_result"
    }
   ],
   "source": [
    "data['Diagnóstico de Depressão'] = data['Diagnóstico de Depressão'].apply(set_Depressao)\n",
    "data['Diagnóstico de Depressão'].value_counts()"
   ]
  },
  {
   "cell_type": "code",
   "execution_count": 231,
   "metadata": {},
   "outputs": [],
   "source": [
    "\"Diagnóstico de Outra Doença Mental\"\n",
    "def set_DoencaMental(DoencaMental):\n",
    "    if pd.isna(DoencaMental):\n",
    "        return 'Não aplicável'\n",
    "    elif DoencaMental == 1:\n",
    "        return 'Sim'\n",
    "    elif DoencaMental == 2:\n",
    "        return 'Não'\n",
    "    elif DoencaMental == 9:\n",
    "        return 'Ignorado'"
   ]
  },
  {
   "cell_type": "code",
   "execution_count": 232,
   "metadata": {},
   "outputs": [
    {
     "data": {
      "text/plain": [
       "Diagnóstico de Outra Doença Mental\n",
       "Não    4604\n",
       "Sim     301\n",
       "Name: count, dtype: int64"
      ]
     },
     "execution_count": 232,
     "metadata": {},
     "output_type": "execute_result"
    }
   ],
   "source": [
    "data['Diagnóstico de Outra Doença Mental'] = data['Diagnóstico de Outra Doença Mental'].apply(set_DoencaMental)\n",
    "data['Diagnóstico de Outra Doença Mental'].value_counts()"
   ]
  },
  {
   "cell_type": "code",
   "execution_count": 233,
   "metadata": {},
   "outputs": [],
   "source": [
    "\"Diagnóstico de Esquizofrenia\"\n",
    "def set_Esquizofrenia(Esquizofrenia):\n",
    "    if pd.isna(Esquizofrenia):\n",
    "        return 'Não aplicável'\n",
    "    elif Esquizofrenia == 1:\n",
    "        return 'Sim'\n",
    "    elif Esquizofrenia == 2:\n",
    "        return 'Não'\n",
    "    elif Esquizofrenia == 9:\n",
    "        return 'Ignorado'"
   ]
  },
  {
   "cell_type": "code",
   "execution_count": 234,
   "metadata": {},
   "outputs": [
    {
     "data": {
      "text/plain": [
       "Diagnóstico de Esquizofrenia\n",
       "Não    4413\n",
       "Sim     492\n",
       "Name: count, dtype: int64"
      ]
     },
     "execution_count": 234,
     "metadata": {},
     "output_type": "execute_result"
    }
   ],
   "source": [
    "data['Diagnóstico de Esquizofrenia'] = data['Diagnóstico de Esquizofrenia'].apply(set_Esquizofrenia)\n",
    "data['Diagnóstico de Esquizofrenia'].value_counts()"
   ]
  },
  {
   "cell_type": "code",
   "execution_count": 235,
   "metadata": {},
   "outputs": [],
   "source": [
    "\"Diagnóstico de Transtorno Bipolar\"\n",
    "def set_TranstornoBipolar(TranstornoBipolar):\n",
    "    if pd.isna(TranstornoBipolar):\n",
    "        return 'Não aplicável'\n",
    "    elif TranstornoBipolar == 1:\n",
    "        return 'Sim'\n",
    "    elif TranstornoBipolar == 2:\n",
    "        return 'Não'\n",
    "    elif TranstornoBipolar == 9:\n",
    "        return 'Ignorado'"
   ]
  },
  {
   "cell_type": "code",
   "execution_count": 236,
   "metadata": {},
   "outputs": [
    {
     "data": {
      "text/plain": [
       "Diagnóstico de Transtorno Bipolar\n",
       "Não    4607\n",
       "Sim     298\n",
       "Name: count, dtype: int64"
      ]
     },
     "execution_count": 236,
     "metadata": {},
     "output_type": "execute_result"
    }
   ],
   "source": [
    "data['Diagnóstico de Transtorno Bipolar'] = data['Diagnóstico de Transtorno Bipolar'].apply(set_TranstornoBipolar)\n",
    "data['Diagnóstico de Transtorno Bipolar'].value_counts()"
   ]
  },
  {
   "cell_type": "code",
   "execution_count": 237,
   "metadata": {},
   "outputs": [],
   "source": [
    "\"Diagnóstico de TOC\"\n",
    "def set_Toc(Toc):\n",
    "    if pd.isna(Toc):\n",
    "        return 'Não aplicável'\n",
    "    elif Toc == 1:\n",
    "        return 'Sim'\n",
    "    elif Toc == 2:\n",
    "        return 'Não'\n",
    "    elif Toc == 9:\n",
    "        return 'Ignorado'"
   ]
  },
  {
   "cell_type": "code",
   "execution_count": 238,
   "metadata": {},
   "outputs": [
    {
     "data": {
      "text/plain": [
       "Diagnóstico de TOC\n",
       "Sim    3741\n",
       "Não    1164\n",
       "Name: count, dtype: int64"
      ]
     },
     "execution_count": 238,
     "metadata": {},
     "output_type": "execute_result"
    }
   ],
   "source": [
    "data['Diagnóstico de TOC'] = data['Diagnóstico de TOC'].apply(set_Toc)\n",
    "data['Diagnóstico de TOC'].value_counts()"
   ]
  },
  {
   "cell_type": "code",
   "execution_count": 239,
   "metadata": {},
   "outputs": [],
   "source": [
    "\"Visita Médico Regularmente\"\n",
    "def set_VisitaMedica(VisitaMedica):\n",
    "    if pd.isna(VisitaMedica):\n",
    "        return 'Não aplicável'\n",
    "    elif VisitaMedica == 1:\n",
    "        return 'Sim'\n",
    "    elif VisitaMedica == 2:\n",
    "        return 'Não'\n",
    "    elif VisitaMedica == 3:\n",
    "        return 'Não, só quando tenho algum problema'\n",
    "    elif VisitaMedica == 9:\n",
    "        return 'Ignorado'"
   ]
  },
  {
   "cell_type": "code",
   "execution_count": 240,
   "metadata": {},
   "outputs": [
    {
     "data": {
      "text/plain": [
       "Visita Médico Regularmente\n",
       "Não    3838\n",
       "Sim    1067\n",
       "Name: count, dtype: int64"
      ]
     },
     "execution_count": 240,
     "metadata": {},
     "output_type": "execute_result"
    }
   ],
   "source": [
    "data['Visita Médico Regularmente'] = data['Visita Médico Regularmente'].apply(set_VisitaMedica)\n",
    "data['Visita Médico Regularmente'].value_counts()"
   ]
  },
  {
   "cell_type": "code",
   "execution_count": 241,
   "metadata": {},
   "outputs": [],
   "source": [
    "\"Uso Medicamentos/Injeções\"\n",
    "def set_UsoMedicamentos(UsoMedicamentos):\n",
    "    if pd.isna(UsoMedicamentos):\n",
    "        return 'Não aplicável'\n",
    "    elif UsoMedicamentos == 1:\n",
    "        return 'Sim'\n",
    "    elif UsoMedicamentos == 2:\n",
    "        return 'Não'\n",
    "    elif UsoMedicamentos == 9:\n",
    "        return 'Ignorado'"
   ]
  },
  {
   "cell_type": "code",
   "execution_count": 242,
   "metadata": {},
   "outputs": [
    {
     "data": {
      "text/plain": [
       "Uso Medicamentos/Injeções\n",
       "Não    4520\n",
       "Sim     385\n",
       "Name: count, dtype: int64"
      ]
     },
     "execution_count": 242,
     "metadata": {},
     "output_type": "execute_result"
    }
   ],
   "source": [
    "data['Uso Medicamentos/Injeções'] = data['Uso Medicamentos/Injeções'].apply(set_UsoMedicamentos)\n",
    "data['Uso Medicamentos/Injeções'].value_counts()"
   ]
  },
  {
   "cell_type": "code",
   "execution_count": 243,
   "metadata": {},
   "outputs": [],
   "source": [
    "\"Acompanhamento Regular\"\n",
    "def set_Acompanhamento(Acompanhamento):\n",
    "    if pd.isna(Acompanhamento):\n",
    "        return 'Não aplicável'\n",
    "    elif Acompanhamento == 1:\n",
    "        return 'Sim'\n",
    "    elif Acompanhamento == 2:\n",
    "        return 'Não'\n",
    "    elif Acompanhamento == 9:\n",
    "        return 'Ignorado'"
   ]
  },
  {
   "cell_type": "code",
   "execution_count": 244,
   "metadata": {},
   "outputs": [
    {
     "data": {
      "text/plain": [
       "Acompanhamento Regular\n",
       "Sim    2410\n",
       "Não    1070\n",
       "Name: count, dtype: int64"
      ]
     },
     "execution_count": 244,
     "metadata": {},
     "output_type": "execute_result"
    }
   ],
   "source": [
    "data['Acompanhamento Regular'] = data['Acompanhamento Regular'].apply(set_Acompanhamento)\n",
    "data['Acompanhamento Regular'].value_counts()"
   ]
  },
  {
   "cell_type": "code",
   "execution_count": 245,
   "metadata": {},
   "outputs": [],
   "source": [
    "\"Limitação das Atividades Diárias\"\n",
    "def set_AtividadesDiarias(AtividadesDiarias):\n",
    "    if pd.isna(AtividadesDiarias):\n",
    "        return 'Não aplicável'\n",
    "    elif AtividadesDiarias == 1:\n",
    "        return 'Não limita'\n",
    "    elif AtividadesDiarias == 2:\n",
    "        return 'Um pouco'\n",
    "    elif AtividadesDiarias == 3:\n",
    "        return 'Moderadamente'\n",
    "    elif AtividadesDiarias == 4:\n",
    "        return 'Intensamente'\n",
    "    elif AtividadesDiarias == 5:\n",
    "        return 'Muito intensamente'\n",
    "    elif AtividadesDiarias == 9:\n",
    "        return 'Ignorado'"
   ]
  },
  {
   "cell_type": "code",
   "execution_count": 246,
   "metadata": {},
   "outputs": [
    {
     "data": {
      "text/plain": [
       "Limitação das Atividades Diárias\n",
       "Um pouco      4729\n",
       "Não limita     176\n",
       "Name: count, dtype: int64"
      ]
     },
     "execution_count": 246,
     "metadata": {},
     "output_type": "execute_result"
    }
   ],
   "source": [
    "data['Limitação das Atividades Diárias'] = data['Limitação das Atividades Diárias'].apply(set_AtividadesDiarias)\n",
    "data['Limitação das Atividades Diárias'].value_counts()"
   ]
  },
  {
   "cell_type": "code",
   "execution_count": 247,
   "metadata": {},
   "outputs": [],
   "source": [
    "\"Última Consulta Médica\"\n",
    "def set_UltimaConsulta(UltimaConsulta):\n",
    "    if pd.isna(UltimaConsulta):\n",
    "        return 'Não aplicável'\n",
    "    elif UltimaConsulta == 1:\n",
    "        return 'Até 15 dias'\n",
    "    elif UltimaConsulta == 2:\n",
    "        return 'Mais de 15 dias até 1 mês'\n",
    "    elif UltimaConsulta == 3:\n",
    "        return 'Mais de 1 mês até 6 meses'\n",
    "    elif UltimaConsulta == 4:\n",
    "        return 'Mais de 6 meses até 1 ano'\n",
    "    elif UltimaConsulta == 5:\n",
    "        return 'Há mais de 1 ano'\n",
    "    elif UltimaConsulta == 9:\n",
    "        return 'Ignorado'"
   ]
  },
  {
   "cell_type": "code",
   "execution_count": 248,
   "metadata": {},
   "outputs": [
    {
     "data": {
      "text/plain": [
       "Última Consulta Médica\n",
       "Mais de 15 dias até 1 mês    2304\n",
       "Até 15 dias                  1564\n",
       "Não aplicável                1037\n",
       "Name: count, dtype: int64"
      ]
     },
     "execution_count": 248,
     "metadata": {},
     "output_type": "execute_result"
    }
   ],
   "source": [
    "data['Última Consulta Médica'] = data['Última Consulta Médica'].apply(set_UltimaConsulta)\n",
    "data['Última Consulta Médica'].value_counts()"
   ]
  },
  {
   "cell_type": "code",
   "execution_count": 249,
   "metadata": {},
   "outputs": [],
   "source": [
    "\"Motivo da Consulta Médica\"\n",
    "def set_MotivoConsulta(MotivoConsulta):\n",
    "    if pd.isna(MotivoConsulta):\n",
    "        return 'Não aplicável'\n",
    "    elif MotivoConsulta == 1:\n",
    "        return 'Acidente ou lesão'\n",
    "    elif MotivoConsulta == 2:\n",
    "        return 'Continuação de tratamento ou terapia'\n",
    "    elif MotivoConsulta == 3:\n",
    "        return 'Consulta pré-natal'\n",
    "    elif MotivoConsulta == 4:\n",
    "        return 'Exame médico periódico'\n",
    "    elif MotivoConsulta == 5:\n",
    "        return 'Outro exame médico (admissional, para carteira de motorista, etc'\n",
    "    elif MotivoConsulta == 6:\n",
    "        return 'Problema de saúde mental'\n",
    "    elif MotivoConsulta == 7:\n",
    "        return 'Doença ou outro problema de saúde'\n",
    "    elif MotivoConsulta == 8:\n",
    "        return 'Outro exame médico (admissional, para carteira de motorista, etc'\n",
    "    elif MotivoConsulta == 9:\n",
    "        return 'Ignorado'"
   ]
  },
  {
   "cell_type": "code",
   "execution_count": 250,
   "metadata": {},
   "outputs": [
    {
     "data": {
      "text/plain": [
       "Motivo da Consulta Médica\n",
       "Não aplicável                                                       2601\n",
       "Outro exame médico (admissional, para carteira de motorista, etc    1143\n",
       "Acidente ou lesão                                                    704\n",
       "Doença ou outro problema de saúde                                    163\n",
       "Consulta pré-natal                                                    77\n",
       "Continuação de tratamento ou terapia                                  75\n",
       "Exame médico periódico                                                36\n",
       "Problema de saúde mental                                              20\n",
       "Ignorado                                                              12\n",
       "Name: count, dtype: int64"
      ]
     },
     "execution_count": 250,
     "metadata": {},
     "output_type": "execute_result"
    }
   ],
   "source": [
    "data['Motivo da Consulta Médica'] = data['Motivo da Consulta Médica'].apply(set_MotivoConsulta)\n",
    "data['Motivo da Consulta Médica'].value_counts()"
   ]
  },
  {
   "cell_type": "code",
   "execution_count": 251,
   "metadata": {},
   "outputs": [],
   "source": [
    "\"Dificuldade Atendimento Médico\"\n",
    "def set_DificuldadeAtendimento(DificuldadeAtendimento):\n",
    "    if pd.isna(DificuldadeAtendimento):\n",
    "        return 'Não aplicável'\n",
    "    elif DificuldadeAtendimento == 1:\n",
    "        return 'Com certeza não'\n",
    "    elif DificuldadeAtendimento == 2:\n",
    "        return 'Provavelmente não'\n",
    "    elif DificuldadeAtendimento == 3:\n",
    "        return 'Provavelmente sim'\n",
    "    elif DificuldadeAtendimento == 4:\n",
    "        return 'Com certeza sim'\n",
    "    elif DificuldadeAtendimento == 5:\n",
    "        return 'Não sabe/Não lembra'\n",
    "    elif DificuldadeAtendimento == 9:\n",
    "        return 'Ignorado'\n"
   ]
  },
  {
   "cell_type": "code",
   "execution_count": 252,
   "metadata": {},
   "outputs": [
    {
     "data": {
      "text/plain": [
       "Dificuldade Atendimento Médico\n",
       "Não aplicável          4201\n",
       "Com certeza sim         373\n",
       "Provavelmente sim       151\n",
       "Provavelmente não        89\n",
       "Com certeza não          86\n",
       "Não sabe/Não lembra       5\n",
       "Name: count, dtype: int64"
      ]
     },
     "execution_count": 252,
     "metadata": {},
     "output_type": "execute_result"
    }
   ],
   "source": [
    "data['Dificuldade Atendimento Médico'] = data['Dificuldade Atendimento Médico'].apply(set_DificuldadeAtendimento)\n",
    "data['Dificuldade Atendimento Médico'].value_counts()"
   ]
  },
  {
   "cell_type": "code",
   "execution_count": 253,
   "metadata": {},
   "outputs": [],
   "source": [
    "\"Aconselhamento Médico Rápido por Telefone\"\n",
    "def set_AtendimentoRapidoTelefone(AtendimentoRapidoTelefone):\n",
    "    if pd.isna(AtendimentoRapidoTelefone):\n",
    "        return 'Não aplicável'\n",
    "    elif AtendimentoRapidoTelefone == 1:\n",
    "        return 'Com certeza não'\n",
    "    elif AtendimentoRapidoTelefone == 2:\n",
    "        return 'Provavelmente não'\n",
    "    elif AtendimentoRapidoTelefone == 3:\n",
    "        return 'Provavelmente sim'\n",
    "    elif AtendimentoRapidoTelefone == 4:\n",
    "        return 'Com certeza sim'\n",
    "    elif AtendimentoRapidoTelefone == 5:\n",
    "        return 'Não sabe/Não lembra'\n",
    "    elif AtendimentoRapidoTelefone == 9:\n",
    "        return 'Ignorado'\n"
   ]
  },
  {
   "cell_type": "code",
   "execution_count": 254,
   "metadata": {},
   "outputs": [
    {
     "data": {
      "text/plain": [
       "Aconselhamento Médico Rápido por Telefone\n",
       "Não aplicável          4201\n",
       "Com certeza não         243\n",
       "Com certeza sim         191\n",
       "Provavelmente não       133\n",
       "Provavelmente sim       127\n",
       "Não sabe/Não lembra      10\n",
       "Name: count, dtype: int64"
      ]
     },
     "execution_count": 254,
     "metadata": {},
     "output_type": "execute_result"
    }
   ],
   "source": [
    "data['Aconselhamento Médico Rápido por Telefone'] = data['Aconselhamento Médico Rápido por Telefone'].apply(set_AtendimentoRapidoTelefone)\n",
    "data['Aconselhamento Médico Rápido por Telefone'].value_counts()"
   ]
  },
  {
   "cell_type": "code",
   "execution_count": 255,
   "metadata": {},
   "outputs": [],
   "source": [
    "\"Idade Primeiro Diagnóstico de Doença Mental\"\n",
    "def set_IdadeDiagnostico(IdadeDiagnostico):\n",
    "    if pd.isna(IdadeDiagnostico):\n",
    "        return 'Não aplicável'\n",
    "    elif IdadeDiagnostico == 0:\n",
    "        return 'Menos de 1 ano'\n",
    "    elif 0 <= IdadeDiagnostico <= 98:  \n",
    "        return IdadeDiagnostico\n",
    "    elif IdadeDiagnostico == 99:\n",
    "        return 'Ignorado'\n"
   ]
  },
  {
   "cell_type": "code",
   "execution_count": 256,
   "metadata": {},
   "outputs": [
    {
     "data": {
      "text/plain": [
       "Idade Primeiro Diagnóstico de Doença Mental\n",
       "1.0    1933\n",
       "2.0    1795\n",
       "3.0    1177\n",
       "Name: count, dtype: int64"
      ]
     },
     "execution_count": 256,
     "metadata": {},
     "output_type": "execute_result"
    }
   ],
   "source": [
    "data['Idade Primeiro Diagnóstico de Doença Mental'] = data['Idade Primeiro Diagnóstico de Doença Mental'].apply(set_IdadeDiagnostico)\n",
    "data['Idade Primeiro Diagnóstico de Doença Mental'].value_counts()"
   ]
  },
  {
   "cell_type": "code",
   "execution_count": 257,
   "metadata": {},
   "outputs": [],
   "source": [
    "\"Faz Psicoterapia\"\n",
    "def set_Psicoterapia(Psicoterapia):\n",
    "    if pd.isna(Psicoterapia):\n",
    "        return 'Não aplicável'\n",
    "    elif Psicoterapia == 1:\n",
    "        return 'Sim'\n",
    "    elif Psicoterapia == 2:\n",
    "        return 'Não'\n",
    "    elif Psicoterapia == 9:\n",
    "        return 'Ignorado'"
   ]
  },
  {
   "cell_type": "code",
   "execution_count": 258,
   "metadata": {},
   "outputs": [
    {
     "data": {
      "text/plain": [
       "Faz Psicoterapia\n",
       "Sim    2658\n",
       "Não    2247\n",
       "Name: count, dtype: int64"
      ]
     },
     "execution_count": 258,
     "metadata": {},
     "output_type": "execute_result"
    }
   ],
   "source": [
    "data['Faz Psicoterapia'] = data['Faz Psicoterapia'].apply(set_Psicoterapia)\n",
    "data['Faz Psicoterapia'].value_counts()"
   ]
  },
  {
   "cell_type": "code",
   "execution_count": 259,
   "metadata": {},
   "outputs": [],
   "source": [
    "\"Consumo de Feijão por Semana\"\n",
    "def set_ComeFeijao(ComeFeijao):\n",
    "    if pd.isna(ComeFeijao):\n",
    "        return 'Não aplicável'\n",
    "    elif 1 <= ComeFeijao <= 7: \n",
    "        return str(int(ComeFeijao)) + ' dias'\n",
    "    elif ComeFeijao == 0:\n",
    "        return 'Nunca ou menos de uma vez por semana'\n",
    "    elif ComeFeijao == 9:\n",
    "        return 'Ignorado'"
   ]
  },
  {
   "cell_type": "code",
   "execution_count": 260,
   "metadata": {},
   "outputs": [
    {
     "data": {
      "text/plain": [
       "Consumo de Feijão por Semana\n",
       "7 dias                                  2162\n",
       "3 dias                                   583\n",
       "2 dias                                   493\n",
       "5 dias                                   447\n",
       "Nunca ou menos de uma vez por semana     390\n",
       "1 dias                                   315\n",
       "4 dias                                   284\n",
       "6 dias                                   231\n",
       "Name: count, dtype: int64"
      ]
     },
     "execution_count": 260,
     "metadata": {},
     "output_type": "execute_result"
    }
   ],
   "source": [
    "data['Consumo de Feijão por Semana'] = data['Consumo de Feijão por Semana'].apply(set_ComeFeijao)\n",
    "data['Consumo de Feijão por Semana'].value_counts()"
   ]
  },
  {
   "cell_type": "code",
   "execution_count": 261,
   "metadata": {},
   "outputs": [],
   "source": [
    "\"Consumo de Verdura ou Legume por Semana\"\n",
    "def set_VerduraOuLegume(VerduraOuLegume):\n",
    "    if pd.isna(VerduraOuLegume):\n",
    "        return 'Não aplicável'\n",
    "    elif 1 <= VerduraOuLegume <= 7: \n",
    "        return str(int(VerduraOuLegume)) + ' dias'\n",
    "    elif VerduraOuLegume == 0:\n",
    "        return 'Nunca ou menos de uma vez por semana'\n",
    "    elif VerduraOuLegume == 9:\n",
    "        return 'Ignorado'"
   ]
  },
  {
   "cell_type": "code",
   "execution_count": 262,
   "metadata": {},
   "outputs": [
    {
     "data": {
      "text/plain": [
       "Consumo de Verdura ou Legume por Semana\n",
       "7 dias                                  2092\n",
       "3 dias                                   654\n",
       "2 dias                                   564\n",
       "5 dias                                   402\n",
       "Nunca ou menos de uma vez por semana     382\n",
       "4 dias                                   315\n",
       "1 dias                                   278\n",
       "6 dias                                   218\n",
       "Name: count, dtype: int64"
      ]
     },
     "execution_count": 262,
     "metadata": {},
     "output_type": "execute_result"
    }
   ],
   "source": [
    "data['Consumo de Verdura ou Legume por Semana'] = data['Consumo de Verdura ou Legume por Semana'].apply(set_VerduraOuLegume)\n",
    "data['Consumo de Verdura ou Legume por Semana'].value_counts()"
   ]
  },
  {
   "cell_type": "code",
   "execution_count": 263,
   "metadata": {},
   "outputs": [],
   "source": [
    "\"Consumo de Carne Vermelha por Semana\"\n",
    "def set_CarneVermelha(CarneVermelha):\n",
    "    if pd.isna(CarneVermelha):\n",
    "        return 'Não aplicável'\n",
    "    elif 1 <= CarneVermelha <= 7: \n",
    "        return str(int(CarneVermelha)) + ' dias'\n",
    "    elif CarneVermelha == 0:\n",
    "        return 'Nunca ou menos de uma vez por semana'\n",
    "    elif CarneVermelha == 9:\n",
    "        return 'Ignorado'"
   ]
  },
  {
   "cell_type": "code",
   "execution_count": 264,
   "metadata": {},
   "outputs": [
    {
     "data": {
      "text/plain": [
       "Consumo de Carne Vermelha por Semana\n",
       "3 dias                                  1047\n",
       "2 dias                                   926\n",
       "7 dias                                   713\n",
       "4 dias                                   616\n",
       "1 dias                                   556\n",
       "Nunca ou menos de uma vez por semana     500\n",
       "5 dias                                   405\n",
       "6 dias                                   142\n",
       "Name: count, dtype: int64"
      ]
     },
     "execution_count": 264,
     "metadata": {},
     "output_type": "execute_result"
    }
   ],
   "source": [
    "data['Consumo de Carne Vermelha por Semana'] = data['Consumo de Carne Vermelha por Semana'].apply(set_CarneVermelha)\n",
    "data['Consumo de Carne Vermelha por Semana'].value_counts()"
   ]
  },
  {
   "cell_type": "code",
   "execution_count": 265,
   "metadata": {},
   "outputs": [],
   "source": [
    "\"Consumo de Frango por Semana\"\n",
    "def set_Frango(Frango):\n",
    "    if pd.isna(Frango):\n",
    "        return 'Não aplicável'\n",
    "    elif 1 <= Frango <= 7: \n",
    "        return str(int(Frango)) + ' dias'\n",
    "    elif Frango == 0:\n",
    "        return 'Nunca ou menos de uma vez por semana'\n",
    "    elif Frango == 9:\n",
    "        return 'Ignorado'"
   ]
  },
  {
   "cell_type": "code",
   "execution_count": 266,
   "metadata": {},
   "outputs": [
    {
     "data": {
      "text/plain": [
       "Consumo de Frango por Semana\n",
       "2 dias                                  1220\n",
       "3 dias                                  1152\n",
       "1 dias                                   599\n",
       "4 dias                                   594\n",
       "5 dias                                   412\n",
       "Nunca ou menos de uma vez por semana     390\n",
       "7 dias                                   387\n",
       "6 dias                                   151\n",
       "Name: count, dtype: int64"
      ]
     },
     "execution_count": 266,
     "metadata": {},
     "output_type": "execute_result"
    }
   ],
   "source": [
    "data['Consumo de Frango por Semana'] = data['Consumo de Frango por Semana'].apply(set_Frango)\n",
    "data['Consumo de Frango por Semana'].value_counts()"
   ]
  },
  {
   "cell_type": "code",
   "execution_count": 267,
   "metadata": {},
   "outputs": [],
   "source": [
    "\"Consumo de Peixe por Semana\"\n",
    "def set_Peixe(Peixe):\n",
    "    if pd.isna(Peixe):\n",
    "        return 'Não aplicável'\n",
    "    elif 1 <= Peixe <= 7: \n",
    "        return str(int(Peixe)) + ' dias'\n",
    "    elif Peixe == 0:\n",
    "        return 'Nunca ou menos de uma vez por semana'\n",
    "    elif Peixe == 9:\n",
    "        return 'Ignorado'"
   ]
  },
  {
   "cell_type": "code",
   "execution_count": 268,
   "metadata": {},
   "outputs": [
    {
     "data": {
      "text/plain": [
       "Consumo de Peixe por Semana\n",
       "Nunca ou menos de uma vez por semana    2710\n",
       "1 dias                                  1242\n",
       "2 dias                                   557\n",
       "3 dias                                   204\n",
       "4 dias                                    73\n",
       "7 dias                                    49\n",
       "5 dias                                    44\n",
       "6 dias                                    26\n",
       "Name: count, dtype: int64"
      ]
     },
     "execution_count": 268,
     "metadata": {},
     "output_type": "execute_result"
    }
   ],
   "source": [
    "data['Consumo de Peixe por Semana'] = data['Consumo de Peixe por Semana'].apply(set_Peixe)\n",
    "data['Consumo de Peixe por Semana'].value_counts()"
   ]
  },
  {
   "cell_type": "code",
   "execution_count": 269,
   "metadata": {},
   "outputs": [],
   "source": [
    "\"Consumo de Suco Industrializado por Semana\"\n",
    "def set_SucoIndustrializado(SucoIndustrializado):\n",
    "    if pd.isna(SucoIndustrializado):\n",
    "        return 'Não aplicável'\n",
    "    elif 1 <= SucoIndustrializado <= 7: \n",
    "        return str(int(SucoIndustrializado)) + ' dias'\n",
    "    elif SucoIndustrializado == 0:\n",
    "        return 'Nunca ou menos de uma vez por semana'\n",
    "    elif SucoIndustrializado == 9:\n",
    "        return 'Ignorado'"
   ]
  },
  {
   "cell_type": "code",
   "execution_count": 270,
   "metadata": {},
   "outputs": [
    {
     "data": {
      "text/plain": [
       "Consumo de Suco Industrializado por Semana\n",
       "Nunca ou menos de uma vez por semana    3376\n",
       "7 dias                                   394\n",
       "1 dias                                   318\n",
       "2 dias                                   313\n",
       "3 dias                                   198\n",
       "4 dias                                   125\n",
       "5 dias                                   125\n",
       "6 dias                                    56\n",
       "Name: count, dtype: int64"
      ]
     },
     "execution_count": 270,
     "metadata": {},
     "output_type": "execute_result"
    }
   ],
   "source": [
    "data['Consumo de Suco Industrializado por Semana'] = data['Consumo de Suco Industrializado por Semana'].apply(set_SucoIndustrializado)\n",
    "data['Consumo de Suco Industrializado por Semana'].value_counts()"
   ]
  },
  {
   "cell_type": "code",
   "execution_count": 271,
   "metadata": {},
   "outputs": [],
   "source": [
    "\"Consumo de Suco Natural por Semana\"\n",
    "def set_SucoNatural(SucoNatural):\n",
    "    if pd.isna(SucoNatural):\n",
    "        return 'Não aplicável'\n",
    "    elif 1 <= SucoNatural <= 7: \n",
    "        return str(int(SucoNatural)) + ' dias'\n",
    "    elif SucoNatural == 0:\n",
    "        return 'Nunca ou menos de uma vez por semana'\n",
    "    elif SucoNatural == 9:\n",
    "        return 'Ignorado'"
   ]
  },
  {
   "cell_type": "code",
   "execution_count": 272,
   "metadata": {},
   "outputs": [
    {
     "data": {
      "text/plain": [
       "Consumo de Suco Natural por Semana\n",
       "Nunca ou menos de uma vez por semana    1491\n",
       "7 dias                                   792\n",
       "2 dias                                   705\n",
       "3 dias                                   634\n",
       "1 dias                                   539\n",
       "5 dias                                   316\n",
       "4 dias                                   303\n",
       "6 dias                                   125\n",
       "Name: count, dtype: int64"
      ]
     },
     "execution_count": 272,
     "metadata": {},
     "output_type": "execute_result"
    }
   ],
   "source": [
    "data['Consumo de Suco Natural por Semana'] = data['Consumo de Suco Natural por Semana'].apply(set_SucoNatural)\n",
    "data['Consumo de Suco Natural por Semana'].value_counts()"
   ]
  },
  {
   "cell_type": "code",
   "execution_count": 273,
   "metadata": {},
   "outputs": [],
   "source": [
    "\"Consumo de Frutas por Semana\"\n",
    "def set_FrutasSemanal(FrutasSemanal):\n",
    "    if pd.isna(FrutasSemanal):\n",
    "        return 'Não aplicável'\n",
    "    elif 1 <= FrutasSemanal <= 7: \n",
    "        return str(int(FrutasSemanal)) + ' dias'\n",
    "    elif FrutasSemanal == 0:\n",
    "        return 'Nunca ou menos de uma vez por semana'\n",
    "    elif FrutasSemanal == 9:\n",
    "        return 'Ignorado'\n"
   ]
  },
  {
   "cell_type": "code",
   "execution_count": 274,
   "metadata": {},
   "outputs": [
    {
     "data": {
      "text/plain": [
       "Consumo de Frutas por Semana\n",
       "7 dias                                  1899\n",
       "3 dias                                   609\n",
       "Nunca ou menos de uma vez por semana     587\n",
       "2 dias                                   557\n",
       "5 dias                                   370\n",
       "1 dias                                   355\n",
       "4 dias                                   352\n",
       "6 dias                                   176\n",
       "Name: count, dtype: int64"
      ]
     },
     "execution_count": 274,
     "metadata": {},
     "output_type": "execute_result"
    }
   ],
   "source": [
    "data['Consumo de Frutas por Semana'] = data['Consumo de Frutas por Semana'].apply(set_FrutasSemanal)\n",
    "data['Consumo de Frutas por Semana'].value_counts()"
   ]
  },
  {
   "cell_type": "code",
   "execution_count": 275,
   "metadata": {},
   "outputs": [],
   "source": [
    "\"Consumo de Refrigerante por Semana\"\n",
    "def set_Refrigerante(Refrigerante):\n",
    "    if pd.isna(Refrigerante):\n",
    "        return 'Não aplicável'\n",
    "    elif 1 <= Refrigerante <= 7: \n",
    "        return str(int(Refrigerante)) + ' dias'\n",
    "    elif Refrigerante == 0:\n",
    "        return 'Nunca ou menos de uma vez por semana'\n",
    "    elif Refrigerante == 9:\n",
    "        return 'Ignorado'"
   ]
  },
  {
   "cell_type": "code",
   "execution_count": 276,
   "metadata": {},
   "outputs": [
    {
     "data": {
      "text/plain": [
       "Consumo de Refrigerante por Semana\n",
       "Nunca ou menos de uma vez por semana    2741\n",
       "1 dias                                   830\n",
       "2 dias                                   556\n",
       "7 dias                                   277\n",
       "3 dias                                   219\n",
       "5 dias                                   119\n",
       "4 dias                                   111\n",
       "6 dias                                    52\n",
       "Name: count, dtype: int64"
      ]
     },
     "execution_count": 276,
     "metadata": {},
     "output_type": "execute_result"
    }
   ],
   "source": [
    "data['Consumo de Refrigerante por Semana'] = data['Consumo de Refrigerante por Semana'].apply(set_Refrigerante)\n",
    "data['Consumo de Refrigerante por Semana'].value_counts()"
   ]
  },
  {
   "cell_type": "code",
   "execution_count": 277,
   "metadata": {},
   "outputs": [],
   "source": [
    "\"Consumo de Leite por Semana\"\n",
    "def set_ConsumoLeite(ConsumoLeite):\n",
    "    if pd.isna(ConsumoLeite):\n",
    "        return 'Não aplicável'\n",
    "    elif 1 <= ConsumoLeite <= 7: \n",
    "        return str(int(ConsumoLeite)) + ' dias'\n",
    "    elif ConsumoLeite == 0:\n",
    "        return 'Nunca ou menos de uma vez por semana'\n",
    "    elif ConsumoLeite == 9:\n",
    "        return 'Ignorado'"
   ]
  },
  {
   "cell_type": "code",
   "execution_count": 278,
   "metadata": {},
   "outputs": [
    {
     "data": {
      "text/plain": [
       "Consumo de Leite por Semana\n",
       "7 dias                                  1976\n",
       "Nunca ou menos de uma vez por semana    1601\n",
       "2 dias                                   350\n",
       "3 dias                                   293\n",
       "1 dias                                   268\n",
       "5 dias                                   172\n",
       "4 dias                                   155\n",
       "6 dias                                    90\n",
       "Name: count, dtype: int64"
      ]
     },
     "execution_count": 278,
     "metadata": {},
     "output_type": "execute_result"
    }
   ],
   "source": [
    "data['Consumo de Leite por Semana'] = data['Consumo de Leite por Semana'].apply(set_ConsumoLeite)\n",
    "data['Consumo de Leite por Semana'].value_counts()"
   ]
  },
  {
   "cell_type": "code",
   "execution_count": 279,
   "metadata": {},
   "outputs": [],
   "source": [
    "\"Consumo de Doces por Semana\"\n",
    "def set_ConsumoDoce(ConsumoDoce):\n",
    "    if pd.isna(ConsumoDoce):\n",
    "        return 'Não aplicável'\n",
    "    elif 1 <= ConsumoDoce <= 7: \n",
    "        return str(int(ConsumoDoce)) + ' dias'\n",
    "    elif ConsumoDoce == 0:\n",
    "        return 'Nunca ou menos de uma vez por semana'\n",
    "    elif ConsumoDoce == 9:\n",
    "        return 'Ignorado'"
   ]
  },
  {
   "cell_type": "code",
   "execution_count": 280,
   "metadata": {},
   "outputs": [
    {
     "data": {
      "text/plain": [
       "Consumo de Doces por Semana\n",
       "Nunca ou menos de uma vez por semana    2057\n",
       "2 dias                                   651\n",
       "1 dias                                   624\n",
       "7 dias                                   602\n",
       "3 dias                                   470\n",
       "4 dias                                   223\n",
       "5 dias                                   185\n",
       "6 dias                                    93\n",
       "Name: count, dtype: int64"
      ]
     },
     "execution_count": 280,
     "metadata": {},
     "output_type": "execute_result"
    }
   ],
   "source": [
    "data['Consumo de Doces por Semana'] = data['Consumo de Doces por Semana'].apply(set_ConsumoDoce)\n",
    "data['Consumo de Doces por Semana'].value_counts()"
   ]
  },
  {
   "cell_type": "code",
   "execution_count": 281,
   "metadata": {},
   "outputs": [],
   "source": [
    "\"Consumo de Fast Food por Semana\"\n",
    "def set_ConsumoFastFood(ConsumoFastFood):\n",
    "    if pd.isna(ConsumoFastFood):\n",
    "        return 'Não aplicável'\n",
    "    elif 1 <= ConsumoFastFood <= 7: \n",
    "        return str(int(ConsumoFastFood)) + ' dias'\n",
    "    elif ConsumoFastFood == 0:\n",
    "        return 'Nunca ou menos de uma vez por semana'\n",
    "    elif ConsumoFastFood == 9:\n",
    "        return 'Ignorado'\n"
   ]
  },
  {
   "cell_type": "code",
   "execution_count": 282,
   "metadata": {},
   "outputs": [
    {
     "data": {
      "text/plain": [
       "Consumo de Fast Food por Semana\n",
       "Nunca ou menos de uma vez por semana    3662\n",
       "1 dias                                   444\n",
       "2 dias                                   370\n",
       "3 dias                                   195\n",
       "4 dias                                    94\n",
       "7 dias                                    66\n",
       "5 dias                                    58\n",
       "6 dias                                    16\n",
       "Name: count, dtype: int64"
      ]
     },
     "execution_count": 282,
     "metadata": {},
     "output_type": "execute_result"
    }
   ],
   "source": [
    "data['Consumo de Fast Food por Semana'] = data['Consumo de Fast Food por Semana'].apply(set_ConsumoFastFood)\n",
    "data['Consumo de Fast Food por Semana'].value_counts()"
   ]
  },
  {
   "cell_type": "code",
   "execution_count": 283,
   "metadata": {},
   "outputs": [],
   "source": [
    "\"Consumo de Bebida Alcoólica por Semana\"\n",
    "def set_ConsumoAlcool(ConsumoAlcool):\n",
    "    if pd.isna(ConsumoAlcool):\n",
    "        return 'Não aplicável'\n",
    "    elif 1 <= ConsumoAlcool <= 7: \n",
    "        return str(int(ConsumoAlcool)) + ' dias'\n",
    "    elif ConsumoAlcool == 0:\n",
    "        return 'Nunca ou menos de uma vez por semana'\n",
    "    elif ConsumoAlcool == 9:\n",
    "        return 'Ignorado'"
   ]
  },
  {
   "cell_type": "code",
   "execution_count": 284,
   "metadata": {},
   "outputs": [
    {
     "data": {
      "text/plain": [
       "Consumo de Bebida Alcoólica por Semana\n",
       "Não aplicável                           3637\n",
       "1 dias                                   499\n",
       "2 dias                                   301\n",
       "Nunca ou menos de uma vez por semana     214\n",
       "3 dias                                   132\n",
       "7 dias                                    51\n",
       "4 dias                                    36\n",
       "5 dias                                    24\n",
       "6 dias                                    11\n",
       "Name: count, dtype: int64"
      ]
     },
     "execution_count": 284,
     "metadata": {},
     "output_type": "execute_result"
    }
   ],
   "source": [
    "data['Consumo de Bebida Alcoólica por Semana'] = data['Consumo de Bebida Alcoólica por Semana'].apply(set_ConsumoAlcool)\n",
    "data['Consumo de Bebida Alcoólica por Semana'].value_counts()"
   ]
  },
  {
   "cell_type": "code",
   "execution_count": 285,
   "metadata": {},
   "outputs": [],
   "source": [
    "\"Pratica de Exercício por Semana\"\n",
    "def set_ExercicioFisico(ExercicioFisico):\n",
    "    if pd.isna(ExercicioFisico):\n",
    "        return 'Não aplicável'\n",
    "    elif 1 <= ExercicioFisico <= 7: \n",
    "        return str(int(ExercicioFisico)) + ' dias'\n",
    "    elif ExercicioFisico == 0:\n",
    "        return 'Nunca ou menos de uma vez por semana'\n",
    "    elif ExercicioFisico == 9:\n",
    "        return 'Ignorado'"
   ]
  },
  {
   "cell_type": "code",
   "execution_count": 286,
   "metadata": {},
   "outputs": [
    {
     "data": {
      "text/plain": [
       "Pratica de Exercício por Semana\n",
       "Não aplicável                           2680\n",
       "3 dias                                   535\n",
       "5 dias                                   443\n",
       "2 dias                                   387\n",
       "1 dias                                   249\n",
       "4 dias                                   216\n",
       "7 dias                                   204\n",
       "Nunca ou menos de uma vez por semana     103\n",
       "6 dias                                    88\n",
       "Name: count, dtype: int64"
      ]
     },
     "execution_count": 286,
     "metadata": {},
     "output_type": "execute_result"
    }
   ],
   "source": [
    "data['Pratica de Exercício por Semana'] = data['Pratica de Exercício por Semana'].apply(set_ExercicioFisico)\n",
    "data['Pratica de Exercício por Semana'].value_counts()"
   ]
  },
  {
   "cell_type": "markdown",
   "metadata": {},
   "source": [
    "### Classificando hábitos alimentares"
   ]
  },
  {
   "cell_type": "code",
   "execution_count": 287,
   "metadata": {},
   "outputs": [],
   "source": [
    "nice_foods = [\n",
    "    'Consumo de Feijão por Semana',\n",
    "    'Consumo de Verdura ou Legume por Semana',\n",
    "    'Consumo de Suco Natural por Semana',\n",
    "    'Consumo de Frutas por Semana',\n",
    "]\n",
    "\n",
    "moderate_foods = [\n",
    "    'Consumo de Carne Vermelha por Semana',\n",
    "    'Consumo de Frango por Semana',\n",
    "    'Consumo de Peixe por Semana',\n",
    "    'Consumo de Leite por Semana',\n",
    "]\n",
    "\n",
    "bad_foods = [\n",
    "    'Consumo de Suco Industrializado por Semana',\n",
    "    'Consumo de Refrigerante por Semana',\n",
    "    'Consumo de Doces por Semana',\n",
    "    'Consumo de Fast Food por Semana',\n",
    "    'Consumo de Bebida Alcoólica por Semana',\n",
    "]"
   ]
  },
  {
   "cell_type": "code",
   "execution_count": 288,
   "metadata": {},
   "outputs": [],
   "source": [
    "def food_score(data):\n",
    "    pontos = 0\n",
    "\n",
    "    for food in nice_foods:\n",
    "        if data[food] >= 4:\n",
    "            pontos += 2\n",
    "        elif data[food] >= 2:\n",
    "            pontos += 1\n",
    "\n",
    "    for food in moderate_foods:\n",
    "        if data[food] >= 4:\n",
    "            pontos += 1\n",
    "        elif data[food] >= 2:\n",
    "            pontos += 2\n",
    "\n",
    "    for food in bad_foods:\n",
    "        if data[food] <= 1:\n",
    "            pontos += 2\n",
    "        elif data[food] <= 3:\n",
    "            pontos += 1\n",
    "\n",
    "    return pontos"
   ]
  },
  {
   "cell_type": "code",
   "execution_count": 289,
   "metadata": {},
   "outputs": [],
   "source": [
    "def set_habito_alimentares(soma):\n",
    "    if soma >= 21:\n",
    "        return 'Bom'\n",
    "    elif soma >= 14:\n",
    "        return 'Regular'\n",
    "    else:\n",
    "        return 'Ruim' "
   ]
  },
  {
   "cell_type": "code",
   "execution_count": 290,
   "metadata": {},
   "outputs": [
    {
     "ename": "TypeError",
     "evalue": "'>=' not supported between instances of 'str' and 'int'",
     "output_type": "error",
     "traceback": [
      "\u001b[1;31m---------------------------------------------------------------------------\u001b[0m",
      "\u001b[1;31mTypeError\u001b[0m                                 Traceback (most recent call last)",
      "Cell \u001b[1;32mIn[290], line 1\u001b[0m\n\u001b[1;32m----> 1\u001b[0m data[\u001b[38;5;124m'\u001b[39m\u001b[38;5;124mHábitos Alimentares\u001b[39m\u001b[38;5;124m'\u001b[39m] \u001b[38;5;241m=\u001b[39m \u001b[43mdata\u001b[49m\u001b[38;5;241;43m.\u001b[39;49m\u001b[43mapply\u001b[49m\u001b[43m(\u001b[49m\u001b[38;5;28;43;01mlambda\u001b[39;49;00m\u001b[43m \u001b[49m\u001b[43mrow\u001b[49m\u001b[43m:\u001b[49m\u001b[43m \u001b[49m\u001b[43mset_habito_alimentares\u001b[49m\u001b[43m(\u001b[49m\u001b[43mfood_score\u001b[49m\u001b[43m(\u001b[49m\u001b[43mrow\u001b[49m\u001b[43m)\u001b[49m\u001b[43m)\u001b[49m\u001b[43m,\u001b[49m\u001b[43m \u001b[49m\u001b[43maxis\u001b[49m\u001b[38;5;241;43m=\u001b[39;49m\u001b[38;5;241;43m1\u001b[39;49m\u001b[43m)\u001b[49m\n\u001b[0;32m      2\u001b[0m data[\u001b[38;5;124m'\u001b[39m\u001b[38;5;124mHábitos Alimentares\u001b[39m\u001b[38;5;124m'\u001b[39m]\u001b[38;5;241m.\u001b[39mvalue_counts()\n",
      "File \u001b[1;32m~\\AppData\\Local\\Packages\\PythonSoftwareFoundation.Python.3.11_qbz5n2kfra8p0\\LocalCache\\local-packages\\Python311\\site-packages\\pandas\\core\\frame.py:10361\u001b[0m, in \u001b[0;36mDataFrame.apply\u001b[1;34m(self, func, axis, raw, result_type, args, by_row, engine, engine_kwargs, **kwargs)\u001b[0m\n\u001b[0;32m  10347\u001b[0m \u001b[38;5;28;01mfrom\u001b[39;00m \u001b[38;5;21;01mpandas\u001b[39;00m\u001b[38;5;21;01m.\u001b[39;00m\u001b[38;5;21;01mcore\u001b[39;00m\u001b[38;5;21;01m.\u001b[39;00m\u001b[38;5;21;01mapply\u001b[39;00m \u001b[38;5;28;01mimport\u001b[39;00m frame_apply\n\u001b[0;32m  10349\u001b[0m op \u001b[38;5;241m=\u001b[39m frame_apply(\n\u001b[0;32m  10350\u001b[0m     \u001b[38;5;28mself\u001b[39m,\n\u001b[0;32m  10351\u001b[0m     func\u001b[38;5;241m=\u001b[39mfunc,\n\u001b[1;32m   (...)\u001b[0m\n\u001b[0;32m  10359\u001b[0m     kwargs\u001b[38;5;241m=\u001b[39mkwargs,\n\u001b[0;32m  10360\u001b[0m )\n\u001b[1;32m> 10361\u001b[0m \u001b[38;5;28;01mreturn\u001b[39;00m \u001b[43mop\u001b[49m\u001b[38;5;241;43m.\u001b[39;49m\u001b[43mapply\u001b[49m\u001b[43m(\u001b[49m\u001b[43m)\u001b[49m\u001b[38;5;241m.\u001b[39m__finalize__(\u001b[38;5;28mself\u001b[39m, method\u001b[38;5;241m=\u001b[39m\u001b[38;5;124m\"\u001b[39m\u001b[38;5;124mapply\u001b[39m\u001b[38;5;124m\"\u001b[39m)\n",
      "File \u001b[1;32m~\\AppData\\Local\\Packages\\PythonSoftwareFoundation.Python.3.11_qbz5n2kfra8p0\\LocalCache\\local-packages\\Python311\\site-packages\\pandas\\core\\apply.py:916\u001b[0m, in \u001b[0;36mFrameApply.apply\u001b[1;34m(self)\u001b[0m\n\u001b[0;32m    913\u001b[0m \u001b[38;5;28;01melif\u001b[39;00m \u001b[38;5;28mself\u001b[39m\u001b[38;5;241m.\u001b[39mraw:\n\u001b[0;32m    914\u001b[0m     \u001b[38;5;28;01mreturn\u001b[39;00m \u001b[38;5;28mself\u001b[39m\u001b[38;5;241m.\u001b[39mapply_raw(engine\u001b[38;5;241m=\u001b[39m\u001b[38;5;28mself\u001b[39m\u001b[38;5;241m.\u001b[39mengine, engine_kwargs\u001b[38;5;241m=\u001b[39m\u001b[38;5;28mself\u001b[39m\u001b[38;5;241m.\u001b[39mengine_kwargs)\n\u001b[1;32m--> 916\u001b[0m \u001b[38;5;28;01mreturn\u001b[39;00m \u001b[38;5;28;43mself\u001b[39;49m\u001b[38;5;241;43m.\u001b[39;49m\u001b[43mapply_standard\u001b[49m\u001b[43m(\u001b[49m\u001b[43m)\u001b[49m\n",
      "File \u001b[1;32m~\\AppData\\Local\\Packages\\PythonSoftwareFoundation.Python.3.11_qbz5n2kfra8p0\\LocalCache\\local-packages\\Python311\\site-packages\\pandas\\core\\apply.py:1063\u001b[0m, in \u001b[0;36mFrameApply.apply_standard\u001b[1;34m(self)\u001b[0m\n\u001b[0;32m   1061\u001b[0m \u001b[38;5;28;01mdef\u001b[39;00m \u001b[38;5;21mapply_standard\u001b[39m(\u001b[38;5;28mself\u001b[39m):\n\u001b[0;32m   1062\u001b[0m     \u001b[38;5;28;01mif\u001b[39;00m \u001b[38;5;28mself\u001b[39m\u001b[38;5;241m.\u001b[39mengine \u001b[38;5;241m==\u001b[39m \u001b[38;5;124m\"\u001b[39m\u001b[38;5;124mpython\u001b[39m\u001b[38;5;124m\"\u001b[39m:\n\u001b[1;32m-> 1063\u001b[0m         results, res_index \u001b[38;5;241m=\u001b[39m \u001b[38;5;28;43mself\u001b[39;49m\u001b[38;5;241;43m.\u001b[39;49m\u001b[43mapply_series_generator\u001b[49m\u001b[43m(\u001b[49m\u001b[43m)\u001b[49m\n\u001b[0;32m   1064\u001b[0m     \u001b[38;5;28;01melse\u001b[39;00m:\n\u001b[0;32m   1065\u001b[0m         results, res_index \u001b[38;5;241m=\u001b[39m \u001b[38;5;28mself\u001b[39m\u001b[38;5;241m.\u001b[39mapply_series_numba()\n",
      "File \u001b[1;32m~\\AppData\\Local\\Packages\\PythonSoftwareFoundation.Python.3.11_qbz5n2kfra8p0\\LocalCache\\local-packages\\Python311\\site-packages\\pandas\\core\\apply.py:1081\u001b[0m, in \u001b[0;36mFrameApply.apply_series_generator\u001b[1;34m(self)\u001b[0m\n\u001b[0;32m   1078\u001b[0m \u001b[38;5;28;01mwith\u001b[39;00m option_context(\u001b[38;5;124m\"\u001b[39m\u001b[38;5;124mmode.chained_assignment\u001b[39m\u001b[38;5;124m\"\u001b[39m, \u001b[38;5;28;01mNone\u001b[39;00m):\n\u001b[0;32m   1079\u001b[0m     \u001b[38;5;28;01mfor\u001b[39;00m i, v \u001b[38;5;129;01min\u001b[39;00m \u001b[38;5;28menumerate\u001b[39m(series_gen):\n\u001b[0;32m   1080\u001b[0m         \u001b[38;5;66;03m# ignore SettingWithCopy here in case the user mutates\u001b[39;00m\n\u001b[1;32m-> 1081\u001b[0m         results[i] \u001b[38;5;241m=\u001b[39m \u001b[38;5;28;43mself\u001b[39;49m\u001b[38;5;241;43m.\u001b[39;49m\u001b[43mfunc\u001b[49m\u001b[43m(\u001b[49m\u001b[43mv\u001b[49m\u001b[43m,\u001b[49m\u001b[43m \u001b[49m\u001b[38;5;241;43m*\u001b[39;49m\u001b[38;5;28;43mself\u001b[39;49m\u001b[38;5;241;43m.\u001b[39;49m\u001b[43margs\u001b[49m\u001b[43m,\u001b[49m\u001b[43m \u001b[49m\u001b[38;5;241;43m*\u001b[39;49m\u001b[38;5;241;43m*\u001b[39;49m\u001b[38;5;28;43mself\u001b[39;49m\u001b[38;5;241;43m.\u001b[39;49m\u001b[43mkwargs\u001b[49m\u001b[43m)\u001b[49m\n\u001b[0;32m   1082\u001b[0m         \u001b[38;5;28;01mif\u001b[39;00m \u001b[38;5;28misinstance\u001b[39m(results[i], ABCSeries):\n\u001b[0;32m   1083\u001b[0m             \u001b[38;5;66;03m# If we have a view on v, we need to make a copy because\u001b[39;00m\n\u001b[0;32m   1084\u001b[0m             \u001b[38;5;66;03m#  series_generator will swap out the underlying data\u001b[39;00m\n\u001b[0;32m   1085\u001b[0m             results[i] \u001b[38;5;241m=\u001b[39m results[i]\u001b[38;5;241m.\u001b[39mcopy(deep\u001b[38;5;241m=\u001b[39m\u001b[38;5;28;01mFalse\u001b[39;00m)\n",
      "Cell \u001b[1;32mIn[290], line 1\u001b[0m, in \u001b[0;36m<lambda>\u001b[1;34m(row)\u001b[0m\n\u001b[1;32m----> 1\u001b[0m data[\u001b[38;5;124m'\u001b[39m\u001b[38;5;124mHábitos Alimentares\u001b[39m\u001b[38;5;124m'\u001b[39m] \u001b[38;5;241m=\u001b[39m data\u001b[38;5;241m.\u001b[39mapply(\u001b[38;5;28;01mlambda\u001b[39;00m row: set_habito_alimentares(\u001b[43mfood_score\u001b[49m\u001b[43m(\u001b[49m\u001b[43mrow\u001b[49m\u001b[43m)\u001b[49m), axis\u001b[38;5;241m=\u001b[39m\u001b[38;5;241m1\u001b[39m)\n\u001b[0;32m      2\u001b[0m data[\u001b[38;5;124m'\u001b[39m\u001b[38;5;124mHábitos Alimentares\u001b[39m\u001b[38;5;124m'\u001b[39m]\u001b[38;5;241m.\u001b[39mvalue_counts()\n",
      "Cell \u001b[1;32mIn[288], line 5\u001b[0m, in \u001b[0;36mfood_score\u001b[1;34m(data)\u001b[0m\n\u001b[0;32m      2\u001b[0m pontos \u001b[38;5;241m=\u001b[39m \u001b[38;5;241m0\u001b[39m\n\u001b[0;32m      4\u001b[0m \u001b[38;5;28;01mfor\u001b[39;00m food \u001b[38;5;129;01min\u001b[39;00m nice_foods:\n\u001b[1;32m----> 5\u001b[0m     \u001b[38;5;28;01mif\u001b[39;00m \u001b[43mdata\u001b[49m\u001b[43m[\u001b[49m\u001b[43mfood\u001b[49m\u001b[43m]\u001b[49m\u001b[43m \u001b[49m\u001b[38;5;241;43m>\u001b[39;49m\u001b[38;5;241;43m=\u001b[39;49m\u001b[43m \u001b[49m\u001b[38;5;241;43m4\u001b[39;49m:\n\u001b[0;32m      6\u001b[0m         pontos \u001b[38;5;241m+\u001b[39m\u001b[38;5;241m=\u001b[39m \u001b[38;5;241m2\u001b[39m\n\u001b[0;32m      7\u001b[0m     \u001b[38;5;28;01melif\u001b[39;00m data[food] \u001b[38;5;241m>\u001b[39m\u001b[38;5;241m=\u001b[39m \u001b[38;5;241m2\u001b[39m:\n",
      "\u001b[1;31mTypeError\u001b[0m: '>=' not supported between instances of 'str' and 'int'"
     ]
    }
   ],
   "source": [
    "data['Hábitos Alimentares'] = data.apply(lambda row: set_habito_alimentares(food_score(row)), axis=1)\n",
    "data['Hábitos Alimentares'].value_counts()"
   ]
  }
 ],
 "metadata": {
  "kernelspec": {
   "display_name": "Python 3",
   "language": "python",
   "name": "python3"
  },
  "language_info": {
   "codemirror_mode": {
    "name": "ipython",
    "version": 3
   },
   "file_extension": ".py",
   "mimetype": "text/x-python",
   "name": "python",
   "nbconvert_exporter": "python",
   "pygments_lexer": "ipython3",
   "version": "3.11.9"
  }
 },
 "nbformat": 4,
 "nbformat_minor": 2
}
