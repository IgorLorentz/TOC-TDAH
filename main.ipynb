{
 "cells": [
  {
   "cell_type": "markdown",
   "metadata": {},
   "source": [
    "Importando as bibliotecas"
   ]
  },
  {
   "cell_type": "code",
   "execution_count": 1,
   "metadata": {},
   "outputs": [],
   "source": [
    "import pandas as pd\n",
    "import numpy as np"
   ]
  },
  {
   "cell_type": "markdown",
   "metadata": {},
   "source": [
    "Filtrando a base e limpando os dados"
   ]
  },
  {
   "cell_type": "code",
   "execution_count": 2,
   "metadata": {},
   "outputs": [],
   "source": [
    "data = pd.read_csv('PNS_2019.csv', sep='\\t', encoding='utf-8')"
   ]
  },
  {
   "cell_type": "code",
   "execution_count": 3,
   "metadata": {},
   "outputs": [],
   "source": [
    "filter_columns = [\n",
    "    'Unidade da Federação', \n",
    "    'Tipo de situação censitária', \n",
    "    'Algum morador tem acesso à Internet no domicílio por meio de computador, tablet, telefone móvel celular, televisão ou outro equipamento?',\n",
    "    'Sexo', \n",
    "    'Idade do morador na data de referência', \n",
    "    'Cor ou raça', \n",
    "    'Sabe ler e escrever', \n",
    "    'Qual foi o curso mais elevado que ___frequentou ',\n",
    "    'tem algum plano de saúde médico particular, de empresa ou órgão público?', \n",
    "    'Em geral, como o(a) Sr(a) avalia a sua saúde', \n",
    "    'Algum médico já lhe deu o diagnóstico de hipertensão arterial (pressão alta)? ', \n",
    "    'Algum médico já lhe deu o diagnóstico de diabetes? ',\n",
    "    'Algum médico já lhe deu o diagnóstico de colesterol alto? ',\n",
    "    'Algum médico já lhe deu o diagnóstico de AVC (Acidente Vascular Cerebral) ou derrame?', \n",
    "    'Algum médico já lhe deu o diagnóstico de asma (ou bronquite asmática)? ', \n",
    "    'Algum médico já lhe deu o diagnóstico de artrite ou reumatismo? ',\n",
    "    'Algum médico já lhe deu o diagnóstico de DORT? ',\n",
    "    'Algum médico ou profissional de saúde mental (como psiquiatra ou psicólogo) já lhe deu o diagnóstico de depressão?',\n",
    "    'Algum médico ou profissional de saúde (como psiquiatra ou psicólogo) já lhe deu o diagnóstico de outra doença mental, como transtorno de ansiedade, síndrome do pânico, esquizofrenia, transtorno bipolar, psicose ou TOC (Transtorno Obsessivo Compulsivo) etc? ',\n",
    "    'Diagnóstico de Esquizofrenia ',\n",
    "    'Diagnóstico de Transtorno bipolar ',\n",
    "    'Diagnóstico de TOC (Transtorno obsessivo compulsivo) ',\n",
    "    'O(A) Sr(a) visita o médico/serviço de saúde regularmente por causa dessa doença mental ou só quando tem algum problema?',\n",
    "    'Por causa da doença mental usa medicamentos ou injeções ',\n",
    "    'Por causa da doença mental Faz acompanhamento regular com profissional de saúde',\n",
    "    'Em geral, em que grau essa doença mental limita as suas atividades habituais (tais como trabalhar, realizar afazeres domésticos etc.)? ',\n",
    "    'Quando foi a última vez que o(a) sr(a) consultou com um(a) médico(a)?',\n",
    "    'Por qual motivo o(a) sr(a) precisou consultar com um(a) médico(a)',\n",
    "    'É difícil para você conseguir atendimento médico no(a) \"serviço de saúde” quando pensa que é necessário?',\n",
    "    'Quando o(a) “serviço de saúde” está aberto(a), você consegue aconselhamento rápido pelo telefone se precisar?',\n",
    "    'Que idade o(a) Sr(a) tinha no primeiro diagnóstico de doença mental? ',\n",
    "    'Por causa da doença mental faz psicoterapia ',\n",
    "    'Em quantos dias da semana o(a) Sr(a) costuma comer feijão? ',\n",
    "    'Em quantos dias da semana, o(a) Sr(a) costuma comer pelo menos um tipo de verdura ou legume (sem contar batata, mandioca, cará ou inhame) como alface, tomate, couve, cenoura, chuchu, berinjela, abobrinha? ',\n",
    "    'Em quantos dias da semana o(a) Sr(a) costuma comer carne vermelha (boi, porco, cabrito, bode, ovelha etc.)? ',\n",
    "    'Em quantos dias da semana o(a) Sr(a) costuma comer frango/galinha? ',\n",
    "    'Em quantos dias da semana o(a) Sr(a) costuma comer peixe? ',\n",
    "    'Em quantos dias da semana o(a) Sr(a) costuma tomar suco de caixinha/lata ou refresco em pó ? ',\n",
    "    'Em quantos dias da semana o(a) Sr(a) costuma tomar suco de fruta natural (incluída a polpa de fruta congelada)? ',\n",
    "    'Em quantos dias da semana o(a) Sr(a) costuma comer frutas? ',\n",
    "    'Em quantos dias da semana o(a) Sr(a) costuma tomar refrigerante? ',\n",
    "    'Em quantos dias da semana o(a) Sr(a) costuma tomar leite? (de origem animal: vaca, cabra, búfala etc.) ',\n",
    "    'Em quantos dias da semana o(a) Sr(a) costuma comer alimentos doces como biscoito/bolacha recheado, chocolate, gelatina, balas e outros?',\n",
    "    'Em quantos dias da semana o(a) Sr(a) costuma substituir a refeição do almoço por lanches rápidos como sanduíches, salgados, pizza, cachorro quente, etc? ',\n",
    "    'Quantos dias por semana o(a) Sr(a) costuma consumir alguma bebida alcoólica? ',\n",
    "    'Quantos dias por semana o(a) Sr(a) costuma  (costumava)praticar exercício físico ou esporte?'\n",
    "]\n",
    "\n",
    "data = data[filter_columns]"
   ]
  },
  {
   "cell_type": "code",
   "execution_count": 5,
   "metadata": {},
   "outputs": [],
   "source": [
    "data.rename(columns={\n",
    "    'Unidade da Federação': 'UF',\n",
    "    'Tipo de situação censitária': 'Situação Censitária',\n",
    "    'Algum morador tem acesso à Internet no domicílio por meio de computador, tablet, telefone móvel celular, televisão ou outro equipamento?': 'Acesso à Internet',\n",
    "    'Idade do morador na data de referência': 'Idade',\n",
    "    'Cor ou raça': 'Cor/Raça',\n",
    "    'Sabe ler e escrever': 'Sabe Ler/Escrever',\n",
    "    'Qual foi o curso mais elevado que ___frequentou ': 'Curso Mais Elevado',\n",
    "    'tem algum plano de saúde médico particular, de empresa ou órgão público?': 'Possuí Plano de Saúde',\n",
    "    'Em geral, como o(a) Sr(a) avalia a sua saúde': 'Autoavaliação da Saúde',\n",
    "    'Algum médico já lhe deu o diagnóstico de hipertensão arterial (pressão alta)? ': 'Diagnóstico de Hipertensão',\n",
    "    'Algum médico já lhe deu o diagnóstico de diabetes? ': 'Diagnóstico de Diabetes',\n",
    "    'Algum médico já lhe deu o diagnóstico de colesterol alto? ': 'Diagnóstico de Colesterol Alto',\n",
    "    'Algum médico já lhe deu o diagnóstico de AVC (Acidente Vascular Cerebral) ou derrame?': 'Diagnóstico de AVC',\n",
    "    'Algum médico já lhe deu o diagnóstico de asma (ou bronquite asmática)? ': 'Diagnóstico de Asma',\n",
    "    'Algum médico já lhe deu o diagnóstico de artrite ou reumatismo? ': 'Diagnóstico de Artrite/Reumatismo',\n",
    "    'Algum médico já lhe deu o diagnóstico de DORT? ': 'Diagnóstico de DORT',\n",
    "    'Algum médico ou profissional de saúde mental (como psiquiatra ou psicólogo) já lhe deu o diagnóstico de depressão?': 'Diagnóstico de Depressão',\n",
    "    'Algum médico ou profissional de saúde (como psiquiatra ou psicólogo) já lhe deu o diagnóstico de outra doença mental, como transtorno de ansiedade, síndrome do pânico, esquizofrenia, transtorno bipolar, psicose ou TOC (Transtorno Obsessivo Compulsivo) etc? ': 'Diagnóstico de Outra Doença Mental',\n",
    "    'Diagnóstico de Esquizofrenia ': 'Diagnóstico de Esquizofrenia',\n",
    "    'Diagnóstico de Transtorno bipolar ': 'Diagnóstico de Transtorno Bipolar',\n",
    "    'Diagnóstico de TOC (Transtorno obsessivo compulsivo) ': 'Diagnóstico de TOC',\n",
    "    'O(A) Sr(a) visita o médico/serviço de saúde regularmente por causa dessa doença mental ou só quando tem algum problema?': 'Visita Médico Regularmente',\n",
    "    'Por causa da doença mental usa medicamentos ou injeções ': 'Uso Medicamentos/Injeções',\n",
    "    'Por causa da doença mental Faz acompanhamento regular com profissional de saúde': 'Acompanhamento Regular',\n",
    "    'Em geral, em que grau essa doença mental limita as suas atividades habituais (tais como trabalhar, realizar afazeres domésticos etc.)? ': 'Limitação das Atividades Diárias',\n",
    "    'Quando foi a última vez que o(a) sr(a) consultou com um(a) médico(a)?': 'Última Consulta Médica',\n",
    "    'Por qual motivo o(a) sr(a) precisou consultar com um(a) médico(a)': 'Motivo da Consulta Médica',\n",
    "    'É difícil para você conseguir atendimento médico no(a) \"serviço de saúde” quando pensa que é necessário?': 'Dificuldade Atendimento Médico',\n",
    "    'Quando o(a) “serviço de saúde” está aberto(a), você consegue aconselhamento rápido pelo telefone se precisar?': 'Aconselhamento Médico Rápido por Telefone',\n",
    "    'Que idade o(a) Sr(a) tinha no primeiro diagnóstico de doença mental? ': 'Idade Primeiro Diagnóstico de Doença Mental',\n",
    "    'Por causa da doença mental faz psicoterapia ': 'Faz Psicoterapia',\n",
    "    'Em quantos dias da semana o(a) Sr(a) costuma comer feijão? ': 'Consumo de Feijão por Semana',\n",
    "    'Em quantos dias da semana, o(a) Sr(a) costuma comer pelo menos um tipo de verdura ou legume (sem contar batata, mandioca, cará ou inhame) como alface, tomate, couve, cenoura, chuchu, berinjela, abobrinha? ': 'Consumo de Verdura ou Legume por Semana',\n",
    "    'Em quantos dias da semana o(a) Sr(a) costuma comer carne vermelha (boi, porco, cabrito, bode, ovelha etc.)? ': 'Consumo de Carne Vermelha por Semana',\n",
    "    'Em quantos dias da semana o(a) Sr(a) costuma comer frango/galinha? ': 'Consumo de Frango por Semana',\n",
    "    'Em quantos dias da semana o(a) Sr(a) costuma comer peixe? ': 'Consumo de Peixe por Semana',\n",
    "    'Em quantos dias da semana o(a) Sr(a) costuma tomar suco de caixinha/lata ou refresco em pó ? ': 'Consumo de Suco Industrializado por Semana',\n",
    "    'Em quantos dias da semana o(a) Sr(a) costuma tomar suco de fruta natural (incluída a polpa de fruta congelada)? ': 'Consumo de Suco Natural por Semana',\n",
    "    'Em quantos dias da semana o(a) Sr(a) costuma comer frutas? ': 'Consumo de Frutas por Semana',\n",
    "    'Em quantos dias da semana o(a) Sr(a) costuma tomar refrigerante? ': 'Consumo de Refrigerante por Semana',\n",
    "    'Em quantos dias da semana o(a) Sr(a) costuma tomar leite? (de origem animal: vaca, cabra, búfala etc.) ': 'Consumo de Leite por Semana',\n",
    "    'Em quantos dias da semana o(a) Sr(a) costuma comer alimentos doces como biscoito/bolacha recheado, chocolate, gelatina, balas e outros?': 'Consumo de Doces por Semana',\n",
    "    'Em quantos dias da semana o(a) Sr(a) costuma substituir a refeição do almoço por lanches rápidos como sanduíches, salgados, pizza, cachorro quente, etc? ': 'Consumo de Fast Food por Semana',\n",
    "    'Quantos dias por semana o(a) Sr(a) costuma consumir alguma bebida alcoólica? ': 'Consumo de Bebida Alcoólica por Semana',\n",
    "    'Quantos dias por semana o(a) Sr(a) costuma  (costumava)praticar exercício físico ou esporte?': 'Pratica de Exercício por Semana'\n",
    "}, inplace=True)\n"
   ]
  },
  {
   "cell_type": "markdown",
   "metadata": {},
   "source": [
    "Removendo as linhas em que o atributo target - 'Diagnóstico de TOC' - seja nulo/NAN"
   ]
  },
  {
   "cell_type": "code",
   "execution_count": 16,
   "metadata": {},
   "outputs": [
    {
     "name": "stdout",
     "output_type": "stream",
     "text": [
      "Diagnóstico de TOC\n",
      "1.0    3741\n",
      "2.0    1164\n",
      "Name: count, dtype: int64\n",
      "Quantidade de nulos:  0\n"
     ]
    }
   ],
   "source": [
    "data = data.dropna(subset=['Diagnóstico de TOC'])\n",
    "print(data['Diagnóstico de TOC'].value_counts())\n",
    "print('Quantidade de nulos: ', data['Diagnóstico de TOC'].isnull().sum())"
   ]
  },
  {
   "cell_type": "code",
   "execution_count": 20,
   "metadata": {},
   "outputs": [
    {
     "name": "stdout",
     "output_type": "stream",
     "text": [
      "Linhas:  4905 \n",
      "Colunas:  46\n"
     ]
    }
   ],
   "source": [
    "print('Linhas: ', data.shape[0], '\\nColunas: ', data.shape[1])"
   ]
  }
 ],
 "metadata": {
  "kernelspec": {
   "display_name": ".venv",
   "language": "python",
   "name": "python3"
  },
  "language_info": {
   "codemirror_mode": {
    "name": "ipython",
    "version": 3
   },
   "file_extension": ".py",
   "mimetype": "text/x-python",
   "name": "python",
   "nbconvert_exporter": "python",
   "pygments_lexer": "ipython3",
   "version": "3.13.2"
  }
 },
 "nbformat": 4,
 "nbformat_minor": 2
}
